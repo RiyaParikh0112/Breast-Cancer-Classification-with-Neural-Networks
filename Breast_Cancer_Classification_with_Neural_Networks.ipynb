{
  "nbformat": 4,
  "nbformat_minor": 0,
  "metadata": {
    "colab": {
      "name": "Breast Cancer Classification with Neural Networks",
      "provenance": [],
      "authorship_tag": "ABX9TyNDM3WTYgXU2z9upVk9qFKN",
      "include_colab_link": true
    },
    "kernelspec": {
      "name": "python3",
      "display_name": "Python 3"
    },
    "language_info": {
      "name": "python"
    }
  },
  "cells": [
    {
      "cell_type": "markdown",
      "metadata": {
        "id": "view-in-github",
        "colab_type": "text"
      },
      "source": [
        "<a href=\"https://colab.research.google.com/github/RiyaParikh0112/Breast-Cancer-Classification-with-Neural-Networks/blob/main/Breast_Cancer_Classification_with_Neural_Networks.ipynb\" target=\"_parent\"><img src=\"https://colab.research.google.com/assets/colab-badge.svg\" alt=\"Open In Colab\"/></a>"
      ]
    },
    {
      "cell_type": "code",
      "execution_count": null,
      "metadata": {
        "id": "at1y6UXwgsHK"
      },
      "outputs": [],
      "source": [
        ""
      ]
    }
  ]
}