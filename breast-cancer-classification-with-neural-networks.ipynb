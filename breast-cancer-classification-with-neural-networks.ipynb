{
 "cells": [
  {
   "cell_type": "markdown",
   "id": "9481f5c2",
   "metadata": {
    "papermill": {
     "duration": 0.014812,
     "end_time": "2022-07-29T12:26:10.032185",
     "exception": false,
     "start_time": "2022-07-29T12:26:10.017373",
     "status": "completed"
    },
    "tags": []
   },
   "source": [
    "# Breast Cancer Classification with Neural Networks\n",
    "We'll learn how to use Neural networks in numerical datasets\n",
    "\n",
    "1 --> Benign\n",
    "\n",
    "0 --> Malignant"
   ]
  },
  {
   "cell_type": "code",
   "execution_count": 1,
   "id": "5519cee2",
   "metadata": {
    "execution": {
     "iopub.execute_input": "2022-07-29T12:26:10.061522Z",
     "iopub.status.busy": "2022-07-29T12:26:10.060634Z",
     "iopub.status.idle": "2022-07-29T12:26:11.372132Z",
     "shell.execute_reply": "2022-07-29T12:26:11.370796Z"
    },
    "papermill": {
     "duration": 1.329628,
     "end_time": "2022-07-29T12:26:11.375216",
     "exception": false,
     "start_time": "2022-07-29T12:26:10.045588",
     "status": "completed"
    },
    "tags": []
   },
   "outputs": [],
   "source": [
    "import pandas as pd\n",
    "import numpy as np\n",
    "import matplotlib.pyplot as plt\n",
    "import sklearn.datasets\n",
    "from sklearn.model_selection import train_test_split"
   ]
  },
  {
   "cell_type": "markdown",
   "id": "8a18b654",
   "metadata": {
    "papermill": {
     "duration": 0.012911,
     "end_time": "2022-07-29T12:26:11.403430",
     "exception": false,
     "start_time": "2022-07-29T12:26:11.390519",
     "status": "completed"
    },
    "tags": []
   },
   "source": [
    "### Data Collection and Preprocessing"
   ]
  },
  {
   "cell_type": "code",
   "execution_count": 2,
   "id": "883f6892",
   "metadata": {
    "execution": {
     "iopub.execute_input": "2022-07-29T12:26:11.433585Z",
     "iopub.status.busy": "2022-07-29T12:26:11.433150Z",
     "iopub.status.idle": "2022-07-29T12:26:11.455818Z",
     "shell.execute_reply": "2022-07-29T12:26:11.454547Z"
    },
    "papermill": {
     "duration": 0.04074,
     "end_time": "2022-07-29T12:26:11.458875",
     "exception": false,
     "start_time": "2022-07-29T12:26:11.418135",
     "status": "completed"
    },
    "tags": []
   },
   "outputs": [],
   "source": [
    "# loading the data from sklearn\n",
    "breast_cancer = sklearn.datasets.load_breast_cancer()"
   ]
  },
  {
   "cell_type": "code",
   "execution_count": 3,
   "id": "5654adf2",
   "metadata": {
    "execution": {
     "iopub.execute_input": "2022-07-29T12:26:11.487300Z",
     "iopub.status.busy": "2022-07-29T12:26:11.486886Z",
     "iopub.status.idle": "2022-07-29T12:26:11.501965Z",
     "shell.execute_reply": "2022-07-29T12:26:11.500721Z"
    },
    "papermill": {
     "duration": 0.033054,
     "end_time": "2022-07-29T12:26:11.505220",
     "exception": false,
     "start_time": "2022-07-29T12:26:11.472166",
     "status": "completed"
    },
    "tags": []
   },
   "outputs": [
    {
     "data": {
      "text/plain": [
       "{'data': array([[1.799e+01, 1.038e+01, 1.228e+02, ..., 2.654e-01, 4.601e-01,\n",
       "         1.189e-01],\n",
       "        [2.057e+01, 1.777e+01, 1.329e+02, ..., 1.860e-01, 2.750e-01,\n",
       "         8.902e-02],\n",
       "        [1.969e+01, 2.125e+01, 1.300e+02, ..., 2.430e-01, 3.613e-01,\n",
       "         8.758e-02],\n",
       "        ...,\n",
       "        [1.660e+01, 2.808e+01, 1.083e+02, ..., 1.418e-01, 2.218e-01,\n",
       "         7.820e-02],\n",
       "        [2.060e+01, 2.933e+01, 1.401e+02, ..., 2.650e-01, 4.087e-01,\n",
       "         1.240e-01],\n",
       "        [7.760e+00, 2.454e+01, 4.792e+01, ..., 0.000e+00, 2.871e-01,\n",
       "         7.039e-02]]),\n",
       " 'target': array([0, 0, 0, 0, 0, 0, 0, 0, 0, 0, 0, 0, 0, 0, 0, 0, 0, 0, 0, 1, 1, 1,\n",
       "        0, 0, 0, 0, 0, 0, 0, 0, 0, 0, 0, 0, 0, 0, 0, 1, 0, 0, 0, 0, 0, 0,\n",
       "        0, 0, 1, 0, 1, 1, 1, 1, 1, 0, 0, 1, 0, 0, 1, 1, 1, 1, 0, 1, 0, 0,\n",
       "        1, 1, 1, 1, 0, 1, 0, 0, 1, 0, 1, 0, 0, 1, 1, 1, 0, 0, 1, 0, 0, 0,\n",
       "        1, 1, 1, 0, 1, 1, 0, 0, 1, 1, 1, 0, 0, 1, 1, 1, 1, 0, 1, 1, 0, 1,\n",
       "        1, 1, 1, 1, 1, 1, 1, 0, 0, 0, 1, 0, 0, 1, 1, 1, 0, 0, 1, 0, 1, 0,\n",
       "        0, 1, 0, 0, 1, 1, 0, 1, 1, 0, 1, 1, 1, 1, 0, 1, 1, 1, 1, 1, 1, 1,\n",
       "        1, 1, 0, 1, 1, 1, 1, 0, 0, 1, 0, 1, 1, 0, 0, 1, 1, 0, 0, 1, 1, 1,\n",
       "        1, 0, 1, 1, 0, 0, 0, 1, 0, 1, 0, 1, 1, 1, 0, 1, 1, 0, 0, 1, 0, 0,\n",
       "        0, 0, 1, 0, 0, 0, 1, 0, 1, 0, 1, 1, 0, 1, 0, 0, 0, 0, 1, 1, 0, 0,\n",
       "        1, 1, 1, 0, 1, 1, 1, 1, 1, 0, 0, 1, 1, 0, 1, 1, 0, 0, 1, 0, 1, 1,\n",
       "        1, 1, 0, 1, 1, 1, 1, 1, 0, 1, 0, 0, 0, 0, 0, 0, 0, 0, 0, 0, 0, 0,\n",
       "        0, 0, 1, 1, 1, 1, 1, 1, 0, 1, 0, 1, 1, 0, 1, 1, 0, 1, 0, 0, 1, 1,\n",
       "        1, 1, 1, 1, 1, 1, 1, 1, 1, 1, 1, 0, 1, 1, 0, 1, 0, 1, 1, 1, 1, 1,\n",
       "        1, 1, 1, 1, 1, 1, 1, 1, 1, 0, 1, 1, 1, 0, 1, 0, 1, 1, 1, 1, 0, 0,\n",
       "        0, 1, 1, 1, 1, 0, 1, 0, 1, 0, 1, 1, 1, 0, 1, 1, 1, 1, 1, 1, 1, 0,\n",
       "        0, 0, 1, 1, 1, 1, 1, 1, 1, 1, 1, 1, 1, 0, 0, 1, 0, 0, 0, 1, 0, 0,\n",
       "        1, 1, 1, 1, 1, 0, 1, 1, 1, 1, 1, 0, 1, 1, 1, 0, 1, 1, 0, 0, 1, 1,\n",
       "        1, 1, 1, 1, 0, 1, 1, 1, 1, 1, 1, 1, 0, 1, 1, 1, 1, 1, 0, 1, 1, 0,\n",
       "        1, 1, 1, 1, 1, 1, 1, 1, 1, 1, 1, 1, 0, 1, 0, 0, 1, 0, 1, 1, 1, 1,\n",
       "        1, 0, 1, 1, 0, 1, 0, 1, 1, 0, 1, 0, 1, 1, 1, 1, 1, 1, 1, 1, 0, 0,\n",
       "        1, 1, 1, 1, 1, 1, 0, 1, 1, 1, 1, 1, 1, 1, 1, 1, 1, 0, 1, 1, 1, 1,\n",
       "        1, 1, 1, 0, 1, 0, 1, 1, 0, 1, 1, 1, 1, 1, 0, 0, 1, 0, 1, 0, 1, 1,\n",
       "        1, 1, 1, 0, 1, 1, 0, 1, 0, 1, 0, 0, 1, 1, 1, 0, 1, 1, 1, 1, 1, 1,\n",
       "        1, 1, 1, 1, 1, 0, 1, 0, 0, 1, 1, 1, 1, 1, 1, 1, 1, 1, 1, 1, 1, 1,\n",
       "        1, 1, 1, 1, 1, 1, 1, 1, 1, 1, 1, 1, 0, 0, 0, 0, 0, 0, 1]),\n",
       " 'frame': None,\n",
       " 'target_names': array(['malignant', 'benign'], dtype='<U9'),\n",
       " 'DESCR': '.. _breast_cancer_dataset:\\n\\nBreast cancer wisconsin (diagnostic) dataset\\n--------------------------------------------\\n\\n**Data Set Characteristics:**\\n\\n    :Number of Instances: 569\\n\\n    :Number of Attributes: 30 numeric, predictive attributes and the class\\n\\n    :Attribute Information:\\n        - radius (mean of distances from center to points on the perimeter)\\n        - texture (standard deviation of gray-scale values)\\n        - perimeter\\n        - area\\n        - smoothness (local variation in radius lengths)\\n        - compactness (perimeter^2 / area - 1.0)\\n        - concavity (severity of concave portions of the contour)\\n        - concave points (number of concave portions of the contour)\\n        - symmetry\\n        - fractal dimension (\"coastline approximation\" - 1)\\n\\n        The mean, standard error, and \"worst\" or largest (mean of the three\\n        worst/largest values) of these features were computed for each image,\\n        resulting in 30 features.  For instance, field 0 is Mean Radius, field\\n        10 is Radius SE, field 20 is Worst Radius.\\n\\n        - class:\\n                - WDBC-Malignant\\n                - WDBC-Benign\\n\\n    :Summary Statistics:\\n\\n    ===================================== ====== ======\\n                                           Min    Max\\n    ===================================== ====== ======\\n    radius (mean):                        6.981  28.11\\n    texture (mean):                       9.71   39.28\\n    perimeter (mean):                     43.79  188.5\\n    area (mean):                          143.5  2501.0\\n    smoothness (mean):                    0.053  0.163\\n    compactness (mean):                   0.019  0.345\\n    concavity (mean):                     0.0    0.427\\n    concave points (mean):                0.0    0.201\\n    symmetry (mean):                      0.106  0.304\\n    fractal dimension (mean):             0.05   0.097\\n    radius (standard error):              0.112  2.873\\n    texture (standard error):             0.36   4.885\\n    perimeter (standard error):           0.757  21.98\\n    area (standard error):                6.802  542.2\\n    smoothness (standard error):          0.002  0.031\\n    compactness (standard error):         0.002  0.135\\n    concavity (standard error):           0.0    0.396\\n    concave points (standard error):      0.0    0.053\\n    symmetry (standard error):            0.008  0.079\\n    fractal dimension (standard error):   0.001  0.03\\n    radius (worst):                       7.93   36.04\\n    texture (worst):                      12.02  49.54\\n    perimeter (worst):                    50.41  251.2\\n    area (worst):                         185.2  4254.0\\n    smoothness (worst):                   0.071  0.223\\n    compactness (worst):                  0.027  1.058\\n    concavity (worst):                    0.0    1.252\\n    concave points (worst):               0.0    0.291\\n    symmetry (worst):                     0.156  0.664\\n    fractal dimension (worst):            0.055  0.208\\n    ===================================== ====== ======\\n\\n    :Missing Attribute Values: None\\n\\n    :Class Distribution: 212 - Malignant, 357 - Benign\\n\\n    :Creator:  Dr. William H. Wolberg, W. Nick Street, Olvi L. Mangasarian\\n\\n    :Donor: Nick Street\\n\\n    :Date: November, 1995\\n\\nThis is a copy of UCI ML Breast Cancer Wisconsin (Diagnostic) datasets.\\nhttps://goo.gl/U2Uwz2\\n\\nFeatures are computed from a digitized image of a fine needle\\naspirate (FNA) of a breast mass.  They describe\\ncharacteristics of the cell nuclei present in the image.\\n\\nSeparating plane described above was obtained using\\nMultisurface Method-Tree (MSM-T) [K. P. Bennett, \"Decision Tree\\nConstruction Via Linear Programming.\" Proceedings of the 4th\\nMidwest Artificial Intelligence and Cognitive Science Society,\\npp. 97-101, 1992], a classification method which uses linear\\nprogramming to construct a decision tree.  Relevant features\\nwere selected using an exhaustive search in the space of 1-4\\nfeatures and 1-3 separating planes.\\n\\nThe actual linear program used to obtain the separating plane\\nin the 3-dimensional space is that described in:\\n[K. P. Bennett and O. L. Mangasarian: \"Robust Linear\\nProgramming Discrimination of Two Linearly Inseparable Sets\",\\nOptimization Methods and Software 1, 1992, 23-34].\\n\\nThis database is also available through the UW CS ftp server:\\n\\nftp ftp.cs.wisc.edu\\ncd math-prog/cpo-dataset/machine-learn/WDBC/\\n\\n.. topic:: References\\n\\n   - W.N. Street, W.H. Wolberg and O.L. Mangasarian. Nuclear feature extraction \\n     for breast tumor diagnosis. IS&T/SPIE 1993 International Symposium on \\n     Electronic Imaging: Science and Technology, volume 1905, pages 861-870,\\n     San Jose, CA, 1993.\\n   - O.L. Mangasarian, W.N. Street and W.H. Wolberg. Breast cancer diagnosis and \\n     prognosis via linear programming. Operations Research, 43(4), pages 570-577, \\n     July-August 1995.\\n   - W.H. Wolberg, W.N. Street, and O.L. Mangasarian. Machine learning techniques\\n     to diagnose breast cancer from fine-needle aspirates. Cancer Letters 77 (1994) \\n     163-171.',\n",
       " 'feature_names': array(['mean radius', 'mean texture', 'mean perimeter', 'mean area',\n",
       "        'mean smoothness', 'mean compactness', 'mean concavity',\n",
       "        'mean concave points', 'mean symmetry', 'mean fractal dimension',\n",
       "        'radius error', 'texture error', 'perimeter error', 'area error',\n",
       "        'smoothness error', 'compactness error', 'concavity error',\n",
       "        'concave points error', 'symmetry error',\n",
       "        'fractal dimension error', 'worst radius', 'worst texture',\n",
       "        'worst perimeter', 'worst area', 'worst smoothness',\n",
       "        'worst compactness', 'worst concavity', 'worst concave points',\n",
       "        'worst symmetry', 'worst fractal dimension'], dtype='<U23'),\n",
       " 'filename': 'breast_cancer.csv',\n",
       " 'data_module': 'sklearn.datasets.data'}"
      ]
     },
     "execution_count": 3,
     "metadata": {},
     "output_type": "execute_result"
    }
   ],
   "source": [
    "breast_cancer"
   ]
  },
  {
   "cell_type": "code",
   "execution_count": 4,
   "id": "1b40b914",
   "metadata": {
    "execution": {
     "iopub.execute_input": "2022-07-29T12:26:11.536076Z",
     "iopub.status.busy": "2022-07-29T12:26:11.535075Z",
     "iopub.status.idle": "2022-07-29T12:26:11.542945Z",
     "shell.execute_reply": "2022-07-29T12:26:11.541546Z"
    },
    "papermill": {
     "duration": 0.026283,
     "end_time": "2022-07-29T12:26:11.545536",
     "exception": false,
     "start_time": "2022-07-29T12:26:11.519253",
     "status": "completed"
    },
    "tags": []
   },
   "outputs": [],
   "source": [
    "df = pd.DataFrame(breast_cancer.data , columns = breast_cancer.feature_names)"
   ]
  },
  {
   "cell_type": "code",
   "execution_count": 5,
   "id": "db235531",
   "metadata": {
    "execution": {
     "iopub.execute_input": "2022-07-29T12:26:11.574674Z",
     "iopub.status.busy": "2022-07-29T12:26:11.574225Z",
     "iopub.status.idle": "2022-07-29T12:26:11.622040Z",
     "shell.execute_reply": "2022-07-29T12:26:11.621185Z"
    },
    "papermill": {
     "duration": 0.064976,
     "end_time": "2022-07-29T12:26:11.624124",
     "exception": false,
     "start_time": "2022-07-29T12:26:11.559148",
     "status": "completed"
    },
    "tags": []
   },
   "outputs": [
    {
     "data": {
      "text/html": [
       "<div>\n",
       "<style scoped>\n",
       "    .dataframe tbody tr th:only-of-type {\n",
       "        vertical-align: middle;\n",
       "    }\n",
       "\n",
       "    .dataframe tbody tr th {\n",
       "        vertical-align: top;\n",
       "    }\n",
       "\n",
       "    .dataframe thead th {\n",
       "        text-align: right;\n",
       "    }\n",
       "</style>\n",
       "<table border=\"1\" class=\"dataframe\">\n",
       "  <thead>\n",
       "    <tr style=\"text-align: right;\">\n",
       "      <th></th>\n",
       "      <th>mean radius</th>\n",
       "      <th>mean texture</th>\n",
       "      <th>mean perimeter</th>\n",
       "      <th>mean area</th>\n",
       "      <th>mean smoothness</th>\n",
       "      <th>mean compactness</th>\n",
       "      <th>mean concavity</th>\n",
       "      <th>mean concave points</th>\n",
       "      <th>mean symmetry</th>\n",
       "      <th>mean fractal dimension</th>\n",
       "      <th>...</th>\n",
       "      <th>worst radius</th>\n",
       "      <th>worst texture</th>\n",
       "      <th>worst perimeter</th>\n",
       "      <th>worst area</th>\n",
       "      <th>worst smoothness</th>\n",
       "      <th>worst compactness</th>\n",
       "      <th>worst concavity</th>\n",
       "      <th>worst concave points</th>\n",
       "      <th>worst symmetry</th>\n",
       "      <th>worst fractal dimension</th>\n",
       "    </tr>\n",
       "  </thead>\n",
       "  <tbody>\n",
       "    <tr>\n",
       "      <th>0</th>\n",
       "      <td>17.99</td>\n",
       "      <td>10.38</td>\n",
       "      <td>122.80</td>\n",
       "      <td>1001.0</td>\n",
       "      <td>0.11840</td>\n",
       "      <td>0.27760</td>\n",
       "      <td>0.30010</td>\n",
       "      <td>0.14710</td>\n",
       "      <td>0.2419</td>\n",
       "      <td>0.07871</td>\n",
       "      <td>...</td>\n",
       "      <td>25.380</td>\n",
       "      <td>17.33</td>\n",
       "      <td>184.60</td>\n",
       "      <td>2019.0</td>\n",
       "      <td>0.16220</td>\n",
       "      <td>0.66560</td>\n",
       "      <td>0.7119</td>\n",
       "      <td>0.2654</td>\n",
       "      <td>0.4601</td>\n",
       "      <td>0.11890</td>\n",
       "    </tr>\n",
       "    <tr>\n",
       "      <th>1</th>\n",
       "      <td>20.57</td>\n",
       "      <td>17.77</td>\n",
       "      <td>132.90</td>\n",
       "      <td>1326.0</td>\n",
       "      <td>0.08474</td>\n",
       "      <td>0.07864</td>\n",
       "      <td>0.08690</td>\n",
       "      <td>0.07017</td>\n",
       "      <td>0.1812</td>\n",
       "      <td>0.05667</td>\n",
       "      <td>...</td>\n",
       "      <td>24.990</td>\n",
       "      <td>23.41</td>\n",
       "      <td>158.80</td>\n",
       "      <td>1956.0</td>\n",
       "      <td>0.12380</td>\n",
       "      <td>0.18660</td>\n",
       "      <td>0.2416</td>\n",
       "      <td>0.1860</td>\n",
       "      <td>0.2750</td>\n",
       "      <td>0.08902</td>\n",
       "    </tr>\n",
       "    <tr>\n",
       "      <th>2</th>\n",
       "      <td>19.69</td>\n",
       "      <td>21.25</td>\n",
       "      <td>130.00</td>\n",
       "      <td>1203.0</td>\n",
       "      <td>0.10960</td>\n",
       "      <td>0.15990</td>\n",
       "      <td>0.19740</td>\n",
       "      <td>0.12790</td>\n",
       "      <td>0.2069</td>\n",
       "      <td>0.05999</td>\n",
       "      <td>...</td>\n",
       "      <td>23.570</td>\n",
       "      <td>25.53</td>\n",
       "      <td>152.50</td>\n",
       "      <td>1709.0</td>\n",
       "      <td>0.14440</td>\n",
       "      <td>0.42450</td>\n",
       "      <td>0.4504</td>\n",
       "      <td>0.2430</td>\n",
       "      <td>0.3613</td>\n",
       "      <td>0.08758</td>\n",
       "    </tr>\n",
       "    <tr>\n",
       "      <th>3</th>\n",
       "      <td>11.42</td>\n",
       "      <td>20.38</td>\n",
       "      <td>77.58</td>\n",
       "      <td>386.1</td>\n",
       "      <td>0.14250</td>\n",
       "      <td>0.28390</td>\n",
       "      <td>0.24140</td>\n",
       "      <td>0.10520</td>\n",
       "      <td>0.2597</td>\n",
       "      <td>0.09744</td>\n",
       "      <td>...</td>\n",
       "      <td>14.910</td>\n",
       "      <td>26.50</td>\n",
       "      <td>98.87</td>\n",
       "      <td>567.7</td>\n",
       "      <td>0.20980</td>\n",
       "      <td>0.86630</td>\n",
       "      <td>0.6869</td>\n",
       "      <td>0.2575</td>\n",
       "      <td>0.6638</td>\n",
       "      <td>0.17300</td>\n",
       "    </tr>\n",
       "    <tr>\n",
       "      <th>4</th>\n",
       "      <td>20.29</td>\n",
       "      <td>14.34</td>\n",
       "      <td>135.10</td>\n",
       "      <td>1297.0</td>\n",
       "      <td>0.10030</td>\n",
       "      <td>0.13280</td>\n",
       "      <td>0.19800</td>\n",
       "      <td>0.10430</td>\n",
       "      <td>0.1809</td>\n",
       "      <td>0.05883</td>\n",
       "      <td>...</td>\n",
       "      <td>22.540</td>\n",
       "      <td>16.67</td>\n",
       "      <td>152.20</td>\n",
       "      <td>1575.0</td>\n",
       "      <td>0.13740</td>\n",
       "      <td>0.20500</td>\n",
       "      <td>0.4000</td>\n",
       "      <td>0.1625</td>\n",
       "      <td>0.2364</td>\n",
       "      <td>0.07678</td>\n",
       "    </tr>\n",
       "    <tr>\n",
       "      <th>...</th>\n",
       "      <td>...</td>\n",
       "      <td>...</td>\n",
       "      <td>...</td>\n",
       "      <td>...</td>\n",
       "      <td>...</td>\n",
       "      <td>...</td>\n",
       "      <td>...</td>\n",
       "      <td>...</td>\n",
       "      <td>...</td>\n",
       "      <td>...</td>\n",
       "      <td>...</td>\n",
       "      <td>...</td>\n",
       "      <td>...</td>\n",
       "      <td>...</td>\n",
       "      <td>...</td>\n",
       "      <td>...</td>\n",
       "      <td>...</td>\n",
       "      <td>...</td>\n",
       "      <td>...</td>\n",
       "      <td>...</td>\n",
       "      <td>...</td>\n",
       "    </tr>\n",
       "    <tr>\n",
       "      <th>564</th>\n",
       "      <td>21.56</td>\n",
       "      <td>22.39</td>\n",
       "      <td>142.00</td>\n",
       "      <td>1479.0</td>\n",
       "      <td>0.11100</td>\n",
       "      <td>0.11590</td>\n",
       "      <td>0.24390</td>\n",
       "      <td>0.13890</td>\n",
       "      <td>0.1726</td>\n",
       "      <td>0.05623</td>\n",
       "      <td>...</td>\n",
       "      <td>25.450</td>\n",
       "      <td>26.40</td>\n",
       "      <td>166.10</td>\n",
       "      <td>2027.0</td>\n",
       "      <td>0.14100</td>\n",
       "      <td>0.21130</td>\n",
       "      <td>0.4107</td>\n",
       "      <td>0.2216</td>\n",
       "      <td>0.2060</td>\n",
       "      <td>0.07115</td>\n",
       "    </tr>\n",
       "    <tr>\n",
       "      <th>565</th>\n",
       "      <td>20.13</td>\n",
       "      <td>28.25</td>\n",
       "      <td>131.20</td>\n",
       "      <td>1261.0</td>\n",
       "      <td>0.09780</td>\n",
       "      <td>0.10340</td>\n",
       "      <td>0.14400</td>\n",
       "      <td>0.09791</td>\n",
       "      <td>0.1752</td>\n",
       "      <td>0.05533</td>\n",
       "      <td>...</td>\n",
       "      <td>23.690</td>\n",
       "      <td>38.25</td>\n",
       "      <td>155.00</td>\n",
       "      <td>1731.0</td>\n",
       "      <td>0.11660</td>\n",
       "      <td>0.19220</td>\n",
       "      <td>0.3215</td>\n",
       "      <td>0.1628</td>\n",
       "      <td>0.2572</td>\n",
       "      <td>0.06637</td>\n",
       "    </tr>\n",
       "    <tr>\n",
       "      <th>566</th>\n",
       "      <td>16.60</td>\n",
       "      <td>28.08</td>\n",
       "      <td>108.30</td>\n",
       "      <td>858.1</td>\n",
       "      <td>0.08455</td>\n",
       "      <td>0.10230</td>\n",
       "      <td>0.09251</td>\n",
       "      <td>0.05302</td>\n",
       "      <td>0.1590</td>\n",
       "      <td>0.05648</td>\n",
       "      <td>...</td>\n",
       "      <td>18.980</td>\n",
       "      <td>34.12</td>\n",
       "      <td>126.70</td>\n",
       "      <td>1124.0</td>\n",
       "      <td>0.11390</td>\n",
       "      <td>0.30940</td>\n",
       "      <td>0.3403</td>\n",
       "      <td>0.1418</td>\n",
       "      <td>0.2218</td>\n",
       "      <td>0.07820</td>\n",
       "    </tr>\n",
       "    <tr>\n",
       "      <th>567</th>\n",
       "      <td>20.60</td>\n",
       "      <td>29.33</td>\n",
       "      <td>140.10</td>\n",
       "      <td>1265.0</td>\n",
       "      <td>0.11780</td>\n",
       "      <td>0.27700</td>\n",
       "      <td>0.35140</td>\n",
       "      <td>0.15200</td>\n",
       "      <td>0.2397</td>\n",
       "      <td>0.07016</td>\n",
       "      <td>...</td>\n",
       "      <td>25.740</td>\n",
       "      <td>39.42</td>\n",
       "      <td>184.60</td>\n",
       "      <td>1821.0</td>\n",
       "      <td>0.16500</td>\n",
       "      <td>0.86810</td>\n",
       "      <td>0.9387</td>\n",
       "      <td>0.2650</td>\n",
       "      <td>0.4087</td>\n",
       "      <td>0.12400</td>\n",
       "    </tr>\n",
       "    <tr>\n",
       "      <th>568</th>\n",
       "      <td>7.76</td>\n",
       "      <td>24.54</td>\n",
       "      <td>47.92</td>\n",
       "      <td>181.0</td>\n",
       "      <td>0.05263</td>\n",
       "      <td>0.04362</td>\n",
       "      <td>0.00000</td>\n",
       "      <td>0.00000</td>\n",
       "      <td>0.1587</td>\n",
       "      <td>0.05884</td>\n",
       "      <td>...</td>\n",
       "      <td>9.456</td>\n",
       "      <td>30.37</td>\n",
       "      <td>59.16</td>\n",
       "      <td>268.6</td>\n",
       "      <td>0.08996</td>\n",
       "      <td>0.06444</td>\n",
       "      <td>0.0000</td>\n",
       "      <td>0.0000</td>\n",
       "      <td>0.2871</td>\n",
       "      <td>0.07039</td>\n",
       "    </tr>\n",
       "  </tbody>\n",
       "</table>\n",
       "<p>569 rows × 30 columns</p>\n",
       "</div>"
      ],
      "text/plain": [
       "     mean radius  mean texture  mean perimeter  mean area  mean smoothness  \\\n",
       "0          17.99         10.38          122.80     1001.0          0.11840   \n",
       "1          20.57         17.77          132.90     1326.0          0.08474   \n",
       "2          19.69         21.25          130.00     1203.0          0.10960   \n",
       "3          11.42         20.38           77.58      386.1          0.14250   \n",
       "4          20.29         14.34          135.10     1297.0          0.10030   \n",
       "..           ...           ...             ...        ...              ...   \n",
       "564        21.56         22.39          142.00     1479.0          0.11100   \n",
       "565        20.13         28.25          131.20     1261.0          0.09780   \n",
       "566        16.60         28.08          108.30      858.1          0.08455   \n",
       "567        20.60         29.33          140.10     1265.0          0.11780   \n",
       "568         7.76         24.54           47.92      181.0          0.05263   \n",
       "\n",
       "     mean compactness  mean concavity  mean concave points  mean symmetry  \\\n",
       "0             0.27760         0.30010              0.14710         0.2419   \n",
       "1             0.07864         0.08690              0.07017         0.1812   \n",
       "2             0.15990         0.19740              0.12790         0.2069   \n",
       "3             0.28390         0.24140              0.10520         0.2597   \n",
       "4             0.13280         0.19800              0.10430         0.1809   \n",
       "..                ...             ...                  ...            ...   \n",
       "564           0.11590         0.24390              0.13890         0.1726   \n",
       "565           0.10340         0.14400              0.09791         0.1752   \n",
       "566           0.10230         0.09251              0.05302         0.1590   \n",
       "567           0.27700         0.35140              0.15200         0.2397   \n",
       "568           0.04362         0.00000              0.00000         0.1587   \n",
       "\n",
       "     mean fractal dimension  ...  worst radius  worst texture  \\\n",
       "0                   0.07871  ...        25.380          17.33   \n",
       "1                   0.05667  ...        24.990          23.41   \n",
       "2                   0.05999  ...        23.570          25.53   \n",
       "3                   0.09744  ...        14.910          26.50   \n",
       "4                   0.05883  ...        22.540          16.67   \n",
       "..                      ...  ...           ...            ...   \n",
       "564                 0.05623  ...        25.450          26.40   \n",
       "565                 0.05533  ...        23.690          38.25   \n",
       "566                 0.05648  ...        18.980          34.12   \n",
       "567                 0.07016  ...        25.740          39.42   \n",
       "568                 0.05884  ...         9.456          30.37   \n",
       "\n",
       "     worst perimeter  worst area  worst smoothness  worst compactness  \\\n",
       "0             184.60      2019.0           0.16220            0.66560   \n",
       "1             158.80      1956.0           0.12380            0.18660   \n",
       "2             152.50      1709.0           0.14440            0.42450   \n",
       "3              98.87       567.7           0.20980            0.86630   \n",
       "4             152.20      1575.0           0.13740            0.20500   \n",
       "..               ...         ...               ...                ...   \n",
       "564           166.10      2027.0           0.14100            0.21130   \n",
       "565           155.00      1731.0           0.11660            0.19220   \n",
       "566           126.70      1124.0           0.11390            0.30940   \n",
       "567           184.60      1821.0           0.16500            0.86810   \n",
       "568            59.16       268.6           0.08996            0.06444   \n",
       "\n",
       "     worst concavity  worst concave points  worst symmetry  \\\n",
       "0             0.7119                0.2654          0.4601   \n",
       "1             0.2416                0.1860          0.2750   \n",
       "2             0.4504                0.2430          0.3613   \n",
       "3             0.6869                0.2575          0.6638   \n",
       "4             0.4000                0.1625          0.2364   \n",
       "..               ...                   ...             ...   \n",
       "564           0.4107                0.2216          0.2060   \n",
       "565           0.3215                0.1628          0.2572   \n",
       "566           0.3403                0.1418          0.2218   \n",
       "567           0.9387                0.2650          0.4087   \n",
       "568           0.0000                0.0000          0.2871   \n",
       "\n",
       "     worst fractal dimension  \n",
       "0                    0.11890  \n",
       "1                    0.08902  \n",
       "2                    0.08758  \n",
       "3                    0.17300  \n",
       "4                    0.07678  \n",
       "..                       ...  \n",
       "564                  0.07115  \n",
       "565                  0.06637  \n",
       "566                  0.07820  \n",
       "567                  0.12400  \n",
       "568                  0.07039  \n",
       "\n",
       "[569 rows x 30 columns]"
      ]
     },
     "execution_count": 5,
     "metadata": {},
     "output_type": "execute_result"
    }
   ],
   "source": [
    "df"
   ]
  },
  {
   "cell_type": "markdown",
   "id": "fc95bab7",
   "metadata": {
    "papermill": {
     "duration": 0.014099,
     "end_time": "2022-07-29T12:26:11.652385",
     "exception": false,
     "start_time": "2022-07-29T12:26:11.638286",
     "status": "completed"
    },
    "tags": []
   },
   "source": [
    "Adding Target column to the dataframe labelled 0 and 1"
   ]
  },
  {
   "cell_type": "code",
   "execution_count": 6,
   "id": "650a51c1",
   "metadata": {
    "execution": {
     "iopub.execute_input": "2022-07-29T12:26:11.683616Z",
     "iopub.status.busy": "2022-07-29T12:26:11.682334Z",
     "iopub.status.idle": "2022-07-29T12:26:11.694214Z",
     "shell.execute_reply": "2022-07-29T12:26:11.692989Z"
    },
    "papermill": {
     "duration": 0.030318,
     "end_time": "2022-07-29T12:26:11.696845",
     "exception": false,
     "start_time": "2022-07-29T12:26:11.666527",
     "status": "completed"
    },
    "tags": []
   },
   "outputs": [],
   "source": [
    "df['target'] = breast_cancer.target"
   ]
  },
  {
   "cell_type": "code",
   "execution_count": 7,
   "id": "f60c9bbe",
   "metadata": {
    "execution": {
     "iopub.execute_input": "2022-07-29T12:26:11.727112Z",
     "iopub.status.busy": "2022-07-29T12:26:11.726703Z",
     "iopub.status.idle": "2022-07-29T12:26:11.760426Z",
     "shell.execute_reply": "2022-07-29T12:26:11.759145Z"
    },
    "papermill": {
     "duration": 0.052121,
     "end_time": "2022-07-29T12:26:11.763100",
     "exception": false,
     "start_time": "2022-07-29T12:26:11.710979",
     "status": "completed"
    },
    "tags": []
   },
   "outputs": [
    {
     "data": {
      "text/html": [
       "<div>\n",
       "<style scoped>\n",
       "    .dataframe tbody tr th:only-of-type {\n",
       "        vertical-align: middle;\n",
       "    }\n",
       "\n",
       "    .dataframe tbody tr th {\n",
       "        vertical-align: top;\n",
       "    }\n",
       "\n",
       "    .dataframe thead th {\n",
       "        text-align: right;\n",
       "    }\n",
       "</style>\n",
       "<table border=\"1\" class=\"dataframe\">\n",
       "  <thead>\n",
       "    <tr style=\"text-align: right;\">\n",
       "      <th></th>\n",
       "      <th>mean radius</th>\n",
       "      <th>mean texture</th>\n",
       "      <th>mean perimeter</th>\n",
       "      <th>mean area</th>\n",
       "      <th>mean smoothness</th>\n",
       "      <th>mean compactness</th>\n",
       "      <th>mean concavity</th>\n",
       "      <th>mean concave points</th>\n",
       "      <th>mean symmetry</th>\n",
       "      <th>mean fractal dimension</th>\n",
       "      <th>...</th>\n",
       "      <th>worst texture</th>\n",
       "      <th>worst perimeter</th>\n",
       "      <th>worst area</th>\n",
       "      <th>worst smoothness</th>\n",
       "      <th>worst compactness</th>\n",
       "      <th>worst concavity</th>\n",
       "      <th>worst concave points</th>\n",
       "      <th>worst symmetry</th>\n",
       "      <th>worst fractal dimension</th>\n",
       "      <th>target</th>\n",
       "    </tr>\n",
       "  </thead>\n",
       "  <tbody>\n",
       "    <tr>\n",
       "      <th>0</th>\n",
       "      <td>17.99</td>\n",
       "      <td>10.38</td>\n",
       "      <td>122.80</td>\n",
       "      <td>1001.0</td>\n",
       "      <td>0.11840</td>\n",
       "      <td>0.27760</td>\n",
       "      <td>0.3001</td>\n",
       "      <td>0.14710</td>\n",
       "      <td>0.2419</td>\n",
       "      <td>0.07871</td>\n",
       "      <td>...</td>\n",
       "      <td>17.33</td>\n",
       "      <td>184.60</td>\n",
       "      <td>2019.0</td>\n",
       "      <td>0.1622</td>\n",
       "      <td>0.6656</td>\n",
       "      <td>0.7119</td>\n",
       "      <td>0.2654</td>\n",
       "      <td>0.4601</td>\n",
       "      <td>0.11890</td>\n",
       "      <td>0</td>\n",
       "    </tr>\n",
       "    <tr>\n",
       "      <th>1</th>\n",
       "      <td>20.57</td>\n",
       "      <td>17.77</td>\n",
       "      <td>132.90</td>\n",
       "      <td>1326.0</td>\n",
       "      <td>0.08474</td>\n",
       "      <td>0.07864</td>\n",
       "      <td>0.0869</td>\n",
       "      <td>0.07017</td>\n",
       "      <td>0.1812</td>\n",
       "      <td>0.05667</td>\n",
       "      <td>...</td>\n",
       "      <td>23.41</td>\n",
       "      <td>158.80</td>\n",
       "      <td>1956.0</td>\n",
       "      <td>0.1238</td>\n",
       "      <td>0.1866</td>\n",
       "      <td>0.2416</td>\n",
       "      <td>0.1860</td>\n",
       "      <td>0.2750</td>\n",
       "      <td>0.08902</td>\n",
       "      <td>0</td>\n",
       "    </tr>\n",
       "    <tr>\n",
       "      <th>2</th>\n",
       "      <td>19.69</td>\n",
       "      <td>21.25</td>\n",
       "      <td>130.00</td>\n",
       "      <td>1203.0</td>\n",
       "      <td>0.10960</td>\n",
       "      <td>0.15990</td>\n",
       "      <td>0.1974</td>\n",
       "      <td>0.12790</td>\n",
       "      <td>0.2069</td>\n",
       "      <td>0.05999</td>\n",
       "      <td>...</td>\n",
       "      <td>25.53</td>\n",
       "      <td>152.50</td>\n",
       "      <td>1709.0</td>\n",
       "      <td>0.1444</td>\n",
       "      <td>0.4245</td>\n",
       "      <td>0.4504</td>\n",
       "      <td>0.2430</td>\n",
       "      <td>0.3613</td>\n",
       "      <td>0.08758</td>\n",
       "      <td>0</td>\n",
       "    </tr>\n",
       "    <tr>\n",
       "      <th>3</th>\n",
       "      <td>11.42</td>\n",
       "      <td>20.38</td>\n",
       "      <td>77.58</td>\n",
       "      <td>386.1</td>\n",
       "      <td>0.14250</td>\n",
       "      <td>0.28390</td>\n",
       "      <td>0.2414</td>\n",
       "      <td>0.10520</td>\n",
       "      <td>0.2597</td>\n",
       "      <td>0.09744</td>\n",
       "      <td>...</td>\n",
       "      <td>26.50</td>\n",
       "      <td>98.87</td>\n",
       "      <td>567.7</td>\n",
       "      <td>0.2098</td>\n",
       "      <td>0.8663</td>\n",
       "      <td>0.6869</td>\n",
       "      <td>0.2575</td>\n",
       "      <td>0.6638</td>\n",
       "      <td>0.17300</td>\n",
       "      <td>0</td>\n",
       "    </tr>\n",
       "    <tr>\n",
       "      <th>4</th>\n",
       "      <td>20.29</td>\n",
       "      <td>14.34</td>\n",
       "      <td>135.10</td>\n",
       "      <td>1297.0</td>\n",
       "      <td>0.10030</td>\n",
       "      <td>0.13280</td>\n",
       "      <td>0.1980</td>\n",
       "      <td>0.10430</td>\n",
       "      <td>0.1809</td>\n",
       "      <td>0.05883</td>\n",
       "      <td>...</td>\n",
       "      <td>16.67</td>\n",
       "      <td>152.20</td>\n",
       "      <td>1575.0</td>\n",
       "      <td>0.1374</td>\n",
       "      <td>0.2050</td>\n",
       "      <td>0.4000</td>\n",
       "      <td>0.1625</td>\n",
       "      <td>0.2364</td>\n",
       "      <td>0.07678</td>\n",
       "      <td>0</td>\n",
       "    </tr>\n",
       "  </tbody>\n",
       "</table>\n",
       "<p>5 rows × 31 columns</p>\n",
       "</div>"
      ],
      "text/plain": [
       "   mean radius  mean texture  mean perimeter  mean area  mean smoothness  \\\n",
       "0        17.99         10.38          122.80     1001.0          0.11840   \n",
       "1        20.57         17.77          132.90     1326.0          0.08474   \n",
       "2        19.69         21.25          130.00     1203.0          0.10960   \n",
       "3        11.42         20.38           77.58      386.1          0.14250   \n",
       "4        20.29         14.34          135.10     1297.0          0.10030   \n",
       "\n",
       "   mean compactness  mean concavity  mean concave points  mean symmetry  \\\n",
       "0           0.27760          0.3001              0.14710         0.2419   \n",
       "1           0.07864          0.0869              0.07017         0.1812   \n",
       "2           0.15990          0.1974              0.12790         0.2069   \n",
       "3           0.28390          0.2414              0.10520         0.2597   \n",
       "4           0.13280          0.1980              0.10430         0.1809   \n",
       "\n",
       "   mean fractal dimension  ...  worst texture  worst perimeter  worst area  \\\n",
       "0                 0.07871  ...          17.33           184.60      2019.0   \n",
       "1                 0.05667  ...          23.41           158.80      1956.0   \n",
       "2                 0.05999  ...          25.53           152.50      1709.0   \n",
       "3                 0.09744  ...          26.50            98.87       567.7   \n",
       "4                 0.05883  ...          16.67           152.20      1575.0   \n",
       "\n",
       "   worst smoothness  worst compactness  worst concavity  worst concave points  \\\n",
       "0            0.1622             0.6656           0.7119                0.2654   \n",
       "1            0.1238             0.1866           0.2416                0.1860   \n",
       "2            0.1444             0.4245           0.4504                0.2430   \n",
       "3            0.2098             0.8663           0.6869                0.2575   \n",
       "4            0.1374             0.2050           0.4000                0.1625   \n",
       "\n",
       "   worst symmetry  worst fractal dimension  target  \n",
       "0          0.4601                  0.11890       0  \n",
       "1          0.2750                  0.08902       0  \n",
       "2          0.3613                  0.08758       0  \n",
       "3          0.6638                  0.17300       0  \n",
       "4          0.2364                  0.07678       0  \n",
       "\n",
       "[5 rows x 31 columns]"
      ]
     },
     "execution_count": 7,
     "metadata": {},
     "output_type": "execute_result"
    }
   ],
   "source": [
    "df.head()"
   ]
  },
  {
   "cell_type": "code",
   "execution_count": 8,
   "id": "b5d31fbc",
   "metadata": {
    "execution": {
     "iopub.execute_input": "2022-07-29T12:26:11.794326Z",
     "iopub.status.busy": "2022-07-29T12:26:11.793446Z",
     "iopub.status.idle": "2022-07-29T12:26:11.801055Z",
     "shell.execute_reply": "2022-07-29T12:26:11.800171Z"
    },
    "papermill": {
     "duration": 0.025737,
     "end_time": "2022-07-29T12:26:11.803298",
     "exception": false,
     "start_time": "2022-07-29T12:26:11.777561",
     "status": "completed"
    },
    "tags": []
   },
   "outputs": [
    {
     "data": {
      "text/plain": [
       "(569, 31)"
      ]
     },
     "execution_count": 8,
     "metadata": {},
     "output_type": "execute_result"
    }
   ],
   "source": [
    "df.shape"
   ]
  },
  {
   "cell_type": "code",
   "execution_count": 9,
   "id": "d86e5b0b",
   "metadata": {
    "execution": {
     "iopub.execute_input": "2022-07-29T12:26:11.834389Z",
     "iopub.status.busy": "2022-07-29T12:26:11.833269Z",
     "iopub.status.idle": "2022-07-29T12:26:11.856758Z",
     "shell.execute_reply": "2022-07-29T12:26:11.855910Z"
    },
    "papermill": {
     "duration": 0.041767,
     "end_time": "2022-07-29T12:26:11.859471",
     "exception": false,
     "start_time": "2022-07-29T12:26:11.817704",
     "status": "completed"
    },
    "tags": []
   },
   "outputs": [
    {
     "name": "stdout",
     "output_type": "stream",
     "text": [
      "<class 'pandas.core.frame.DataFrame'>\n",
      "RangeIndex: 569 entries, 0 to 568\n",
      "Data columns (total 31 columns):\n",
      " #   Column                   Non-Null Count  Dtype  \n",
      "---  ------                   --------------  -----  \n",
      " 0   mean radius              569 non-null    float64\n",
      " 1   mean texture             569 non-null    float64\n",
      " 2   mean perimeter           569 non-null    float64\n",
      " 3   mean area                569 non-null    float64\n",
      " 4   mean smoothness          569 non-null    float64\n",
      " 5   mean compactness         569 non-null    float64\n",
      " 6   mean concavity           569 non-null    float64\n",
      " 7   mean concave points      569 non-null    float64\n",
      " 8   mean symmetry            569 non-null    float64\n",
      " 9   mean fractal dimension   569 non-null    float64\n",
      " 10  radius error             569 non-null    float64\n",
      " 11  texture error            569 non-null    float64\n",
      " 12  perimeter error          569 non-null    float64\n",
      " 13  area error               569 non-null    float64\n",
      " 14  smoothness error         569 non-null    float64\n",
      " 15  compactness error        569 non-null    float64\n",
      " 16  concavity error          569 non-null    float64\n",
      " 17  concave points error     569 non-null    float64\n",
      " 18  symmetry error           569 non-null    float64\n",
      " 19  fractal dimension error  569 non-null    float64\n",
      " 20  worst radius             569 non-null    float64\n",
      " 21  worst texture            569 non-null    float64\n",
      " 22  worst perimeter          569 non-null    float64\n",
      " 23  worst area               569 non-null    float64\n",
      " 24  worst smoothness         569 non-null    float64\n",
      " 25  worst compactness        569 non-null    float64\n",
      " 26  worst concavity          569 non-null    float64\n",
      " 27  worst concave points     569 non-null    float64\n",
      " 28  worst symmetry           569 non-null    float64\n",
      " 29  worst fractal dimension  569 non-null    float64\n",
      " 30  target                   569 non-null    int64  \n",
      "dtypes: float64(30), int64(1)\n",
      "memory usage: 137.9 KB\n"
     ]
    }
   ],
   "source": [
    "df.info()"
   ]
  },
  {
   "cell_type": "code",
   "execution_count": 10,
   "id": "3e722cf6",
   "metadata": {
    "execution": {
     "iopub.execute_input": "2022-07-29T12:26:11.891751Z",
     "iopub.status.busy": "2022-07-29T12:26:11.890966Z",
     "iopub.status.idle": "2022-07-29T12:26:11.900230Z",
     "shell.execute_reply": "2022-07-29T12:26:11.899328Z"
    },
    "papermill": {
     "duration": 0.027855,
     "end_time": "2022-07-29T12:26:11.902742",
     "exception": false,
     "start_time": "2022-07-29T12:26:11.874887",
     "status": "completed"
    },
    "tags": []
   },
   "outputs": [
    {
     "data": {
      "text/plain": [
       "mean radius                0\n",
       "mean texture               0\n",
       "mean perimeter             0\n",
       "mean area                  0\n",
       "mean smoothness            0\n",
       "mean compactness           0\n",
       "mean concavity             0\n",
       "mean concave points        0\n",
       "mean symmetry              0\n",
       "mean fractal dimension     0\n",
       "radius error               0\n",
       "texture error              0\n",
       "perimeter error            0\n",
       "area error                 0\n",
       "smoothness error           0\n",
       "compactness error          0\n",
       "concavity error            0\n",
       "concave points error       0\n",
       "symmetry error             0\n",
       "fractal dimension error    0\n",
       "worst radius               0\n",
       "worst texture              0\n",
       "worst perimeter            0\n",
       "worst area                 0\n",
       "worst smoothness           0\n",
       "worst compactness          0\n",
       "worst concavity            0\n",
       "worst concave points       0\n",
       "worst symmetry             0\n",
       "worst fractal dimension    0\n",
       "target                     0\n",
       "dtype: int64"
      ]
     },
     "execution_count": 10,
     "metadata": {},
     "output_type": "execute_result"
    }
   ],
   "source": [
    "df.isnull().sum()"
   ]
  },
  {
   "cell_type": "markdown",
   "id": "caa84d1c",
   "metadata": {
    "papermill": {
     "duration": 0.014425,
     "end_time": "2022-07-29T12:26:11.932111",
     "exception": false,
     "start_time": "2022-07-29T12:26:11.917686",
     "status": "completed"
    },
    "tags": []
   },
   "source": [
    "There are no missing values in the given dataset"
   ]
  },
  {
   "cell_type": "code",
   "execution_count": 11,
   "id": "c41f63bd",
   "metadata": {
    "execution": {
     "iopub.execute_input": "2022-07-29T12:26:11.964182Z",
     "iopub.status.busy": "2022-07-29T12:26:11.963443Z",
     "iopub.status.idle": "2022-07-29T12:26:12.060803Z",
     "shell.execute_reply": "2022-07-29T12:26:12.059505Z"
    },
    "papermill": {
     "duration": 0.116483,
     "end_time": "2022-07-29T12:26:12.063501",
     "exception": false,
     "start_time": "2022-07-29T12:26:11.947018",
     "status": "completed"
    },
    "tags": []
   },
   "outputs": [
    {
     "data": {
      "text/html": [
       "<div>\n",
       "<style scoped>\n",
       "    .dataframe tbody tr th:only-of-type {\n",
       "        vertical-align: middle;\n",
       "    }\n",
       "\n",
       "    .dataframe tbody tr th {\n",
       "        vertical-align: top;\n",
       "    }\n",
       "\n",
       "    .dataframe thead th {\n",
       "        text-align: right;\n",
       "    }\n",
       "</style>\n",
       "<table border=\"1\" class=\"dataframe\">\n",
       "  <thead>\n",
       "    <tr style=\"text-align: right;\">\n",
       "      <th></th>\n",
       "      <th>mean radius</th>\n",
       "      <th>mean texture</th>\n",
       "      <th>mean perimeter</th>\n",
       "      <th>mean area</th>\n",
       "      <th>mean smoothness</th>\n",
       "      <th>mean compactness</th>\n",
       "      <th>mean concavity</th>\n",
       "      <th>mean concave points</th>\n",
       "      <th>mean symmetry</th>\n",
       "      <th>mean fractal dimension</th>\n",
       "      <th>...</th>\n",
       "      <th>worst texture</th>\n",
       "      <th>worst perimeter</th>\n",
       "      <th>worst area</th>\n",
       "      <th>worst smoothness</th>\n",
       "      <th>worst compactness</th>\n",
       "      <th>worst concavity</th>\n",
       "      <th>worst concave points</th>\n",
       "      <th>worst symmetry</th>\n",
       "      <th>worst fractal dimension</th>\n",
       "      <th>target</th>\n",
       "    </tr>\n",
       "  </thead>\n",
       "  <tbody>\n",
       "    <tr>\n",
       "      <th>count</th>\n",
       "      <td>569.000000</td>\n",
       "      <td>569.000000</td>\n",
       "      <td>569.000000</td>\n",
       "      <td>569.000000</td>\n",
       "      <td>569.000000</td>\n",
       "      <td>569.000000</td>\n",
       "      <td>569.000000</td>\n",
       "      <td>569.000000</td>\n",
       "      <td>569.000000</td>\n",
       "      <td>569.000000</td>\n",
       "      <td>...</td>\n",
       "      <td>569.000000</td>\n",
       "      <td>569.000000</td>\n",
       "      <td>569.000000</td>\n",
       "      <td>569.000000</td>\n",
       "      <td>569.000000</td>\n",
       "      <td>569.000000</td>\n",
       "      <td>569.000000</td>\n",
       "      <td>569.000000</td>\n",
       "      <td>569.000000</td>\n",
       "      <td>569.000000</td>\n",
       "    </tr>\n",
       "    <tr>\n",
       "      <th>mean</th>\n",
       "      <td>14.127292</td>\n",
       "      <td>19.289649</td>\n",
       "      <td>91.969033</td>\n",
       "      <td>654.889104</td>\n",
       "      <td>0.096360</td>\n",
       "      <td>0.104341</td>\n",
       "      <td>0.088799</td>\n",
       "      <td>0.048919</td>\n",
       "      <td>0.181162</td>\n",
       "      <td>0.062798</td>\n",
       "      <td>...</td>\n",
       "      <td>25.677223</td>\n",
       "      <td>107.261213</td>\n",
       "      <td>880.583128</td>\n",
       "      <td>0.132369</td>\n",
       "      <td>0.254265</td>\n",
       "      <td>0.272188</td>\n",
       "      <td>0.114606</td>\n",
       "      <td>0.290076</td>\n",
       "      <td>0.083946</td>\n",
       "      <td>0.627417</td>\n",
       "    </tr>\n",
       "    <tr>\n",
       "      <th>std</th>\n",
       "      <td>3.524049</td>\n",
       "      <td>4.301036</td>\n",
       "      <td>24.298981</td>\n",
       "      <td>351.914129</td>\n",
       "      <td>0.014064</td>\n",
       "      <td>0.052813</td>\n",
       "      <td>0.079720</td>\n",
       "      <td>0.038803</td>\n",
       "      <td>0.027414</td>\n",
       "      <td>0.007060</td>\n",
       "      <td>...</td>\n",
       "      <td>6.146258</td>\n",
       "      <td>33.602542</td>\n",
       "      <td>569.356993</td>\n",
       "      <td>0.022832</td>\n",
       "      <td>0.157336</td>\n",
       "      <td>0.208624</td>\n",
       "      <td>0.065732</td>\n",
       "      <td>0.061867</td>\n",
       "      <td>0.018061</td>\n",
       "      <td>0.483918</td>\n",
       "    </tr>\n",
       "    <tr>\n",
       "      <th>min</th>\n",
       "      <td>6.981000</td>\n",
       "      <td>9.710000</td>\n",
       "      <td>43.790000</td>\n",
       "      <td>143.500000</td>\n",
       "      <td>0.052630</td>\n",
       "      <td>0.019380</td>\n",
       "      <td>0.000000</td>\n",
       "      <td>0.000000</td>\n",
       "      <td>0.106000</td>\n",
       "      <td>0.049960</td>\n",
       "      <td>...</td>\n",
       "      <td>12.020000</td>\n",
       "      <td>50.410000</td>\n",
       "      <td>185.200000</td>\n",
       "      <td>0.071170</td>\n",
       "      <td>0.027290</td>\n",
       "      <td>0.000000</td>\n",
       "      <td>0.000000</td>\n",
       "      <td>0.156500</td>\n",
       "      <td>0.055040</td>\n",
       "      <td>0.000000</td>\n",
       "    </tr>\n",
       "    <tr>\n",
       "      <th>25%</th>\n",
       "      <td>11.700000</td>\n",
       "      <td>16.170000</td>\n",
       "      <td>75.170000</td>\n",
       "      <td>420.300000</td>\n",
       "      <td>0.086370</td>\n",
       "      <td>0.064920</td>\n",
       "      <td>0.029560</td>\n",
       "      <td>0.020310</td>\n",
       "      <td>0.161900</td>\n",
       "      <td>0.057700</td>\n",
       "      <td>...</td>\n",
       "      <td>21.080000</td>\n",
       "      <td>84.110000</td>\n",
       "      <td>515.300000</td>\n",
       "      <td>0.116600</td>\n",
       "      <td>0.147200</td>\n",
       "      <td>0.114500</td>\n",
       "      <td>0.064930</td>\n",
       "      <td>0.250400</td>\n",
       "      <td>0.071460</td>\n",
       "      <td>0.000000</td>\n",
       "    </tr>\n",
       "    <tr>\n",
       "      <th>50%</th>\n",
       "      <td>13.370000</td>\n",
       "      <td>18.840000</td>\n",
       "      <td>86.240000</td>\n",
       "      <td>551.100000</td>\n",
       "      <td>0.095870</td>\n",
       "      <td>0.092630</td>\n",
       "      <td>0.061540</td>\n",
       "      <td>0.033500</td>\n",
       "      <td>0.179200</td>\n",
       "      <td>0.061540</td>\n",
       "      <td>...</td>\n",
       "      <td>25.410000</td>\n",
       "      <td>97.660000</td>\n",
       "      <td>686.500000</td>\n",
       "      <td>0.131300</td>\n",
       "      <td>0.211900</td>\n",
       "      <td>0.226700</td>\n",
       "      <td>0.099930</td>\n",
       "      <td>0.282200</td>\n",
       "      <td>0.080040</td>\n",
       "      <td>1.000000</td>\n",
       "    </tr>\n",
       "    <tr>\n",
       "      <th>75%</th>\n",
       "      <td>15.780000</td>\n",
       "      <td>21.800000</td>\n",
       "      <td>104.100000</td>\n",
       "      <td>782.700000</td>\n",
       "      <td>0.105300</td>\n",
       "      <td>0.130400</td>\n",
       "      <td>0.130700</td>\n",
       "      <td>0.074000</td>\n",
       "      <td>0.195700</td>\n",
       "      <td>0.066120</td>\n",
       "      <td>...</td>\n",
       "      <td>29.720000</td>\n",
       "      <td>125.400000</td>\n",
       "      <td>1084.000000</td>\n",
       "      <td>0.146000</td>\n",
       "      <td>0.339100</td>\n",
       "      <td>0.382900</td>\n",
       "      <td>0.161400</td>\n",
       "      <td>0.317900</td>\n",
       "      <td>0.092080</td>\n",
       "      <td>1.000000</td>\n",
       "    </tr>\n",
       "    <tr>\n",
       "      <th>max</th>\n",
       "      <td>28.110000</td>\n",
       "      <td>39.280000</td>\n",
       "      <td>188.500000</td>\n",
       "      <td>2501.000000</td>\n",
       "      <td>0.163400</td>\n",
       "      <td>0.345400</td>\n",
       "      <td>0.426800</td>\n",
       "      <td>0.201200</td>\n",
       "      <td>0.304000</td>\n",
       "      <td>0.097440</td>\n",
       "      <td>...</td>\n",
       "      <td>49.540000</td>\n",
       "      <td>251.200000</td>\n",
       "      <td>4254.000000</td>\n",
       "      <td>0.222600</td>\n",
       "      <td>1.058000</td>\n",
       "      <td>1.252000</td>\n",
       "      <td>0.291000</td>\n",
       "      <td>0.663800</td>\n",
       "      <td>0.207500</td>\n",
       "      <td>1.000000</td>\n",
       "    </tr>\n",
       "  </tbody>\n",
       "</table>\n",
       "<p>8 rows × 31 columns</p>\n",
       "</div>"
      ],
      "text/plain": [
       "       mean radius  mean texture  mean perimeter    mean area  \\\n",
       "count   569.000000    569.000000      569.000000   569.000000   \n",
       "mean     14.127292     19.289649       91.969033   654.889104   \n",
       "std       3.524049      4.301036       24.298981   351.914129   \n",
       "min       6.981000      9.710000       43.790000   143.500000   \n",
       "25%      11.700000     16.170000       75.170000   420.300000   \n",
       "50%      13.370000     18.840000       86.240000   551.100000   \n",
       "75%      15.780000     21.800000      104.100000   782.700000   \n",
       "max      28.110000     39.280000      188.500000  2501.000000   \n",
       "\n",
       "       mean smoothness  mean compactness  mean concavity  mean concave points  \\\n",
       "count       569.000000        569.000000      569.000000           569.000000   \n",
       "mean          0.096360          0.104341        0.088799             0.048919   \n",
       "std           0.014064          0.052813        0.079720             0.038803   \n",
       "min           0.052630          0.019380        0.000000             0.000000   \n",
       "25%           0.086370          0.064920        0.029560             0.020310   \n",
       "50%           0.095870          0.092630        0.061540             0.033500   \n",
       "75%           0.105300          0.130400        0.130700             0.074000   \n",
       "max           0.163400          0.345400        0.426800             0.201200   \n",
       "\n",
       "       mean symmetry  mean fractal dimension  ...  worst texture  \\\n",
       "count     569.000000              569.000000  ...     569.000000   \n",
       "mean        0.181162                0.062798  ...      25.677223   \n",
       "std         0.027414                0.007060  ...       6.146258   \n",
       "min         0.106000                0.049960  ...      12.020000   \n",
       "25%         0.161900                0.057700  ...      21.080000   \n",
       "50%         0.179200                0.061540  ...      25.410000   \n",
       "75%         0.195700                0.066120  ...      29.720000   \n",
       "max         0.304000                0.097440  ...      49.540000   \n",
       "\n",
       "       worst perimeter   worst area  worst smoothness  worst compactness  \\\n",
       "count       569.000000   569.000000        569.000000         569.000000   \n",
       "mean        107.261213   880.583128          0.132369           0.254265   \n",
       "std          33.602542   569.356993          0.022832           0.157336   \n",
       "min          50.410000   185.200000          0.071170           0.027290   \n",
       "25%          84.110000   515.300000          0.116600           0.147200   \n",
       "50%          97.660000   686.500000          0.131300           0.211900   \n",
       "75%         125.400000  1084.000000          0.146000           0.339100   \n",
       "max         251.200000  4254.000000          0.222600           1.058000   \n",
       "\n",
       "       worst concavity  worst concave points  worst symmetry  \\\n",
       "count       569.000000            569.000000      569.000000   \n",
       "mean          0.272188              0.114606        0.290076   \n",
       "std           0.208624              0.065732        0.061867   \n",
       "min           0.000000              0.000000        0.156500   \n",
       "25%           0.114500              0.064930        0.250400   \n",
       "50%           0.226700              0.099930        0.282200   \n",
       "75%           0.382900              0.161400        0.317900   \n",
       "max           1.252000              0.291000        0.663800   \n",
       "\n",
       "       worst fractal dimension      target  \n",
       "count               569.000000  569.000000  \n",
       "mean                  0.083946    0.627417  \n",
       "std                   0.018061    0.483918  \n",
       "min                   0.055040    0.000000  \n",
       "25%                   0.071460    0.000000  \n",
       "50%                   0.080040    1.000000  \n",
       "75%                   0.092080    1.000000  \n",
       "max                   0.207500    1.000000  \n",
       "\n",
       "[8 rows x 31 columns]"
      ]
     },
     "execution_count": 11,
     "metadata": {},
     "output_type": "execute_result"
    }
   ],
   "source": [
    "df.describe()"
   ]
  },
  {
   "cell_type": "code",
   "execution_count": 12,
   "id": "c175d65e",
   "metadata": {
    "execution": {
     "iopub.execute_input": "2022-07-29T12:26:12.097275Z",
     "iopub.status.busy": "2022-07-29T12:26:12.096514Z",
     "iopub.status.idle": "2022-07-29T12:26:12.106086Z",
     "shell.execute_reply": "2022-07-29T12:26:12.104685Z"
    },
    "papermill": {
     "duration": 0.029659,
     "end_time": "2022-07-29T12:26:12.108907",
     "exception": false,
     "start_time": "2022-07-29T12:26:12.079248",
     "status": "completed"
    },
    "tags": []
   },
   "outputs": [
    {
     "data": {
      "text/plain": [
       "1    357\n",
       "0    212\n",
       "Name: target, dtype: int64"
      ]
     },
     "execution_count": 12,
     "metadata": {},
     "output_type": "execute_result"
    }
   ],
   "source": [
    "df['target'].value_counts()"
   ]
  },
  {
   "cell_type": "code",
   "execution_count": 13,
   "id": "9e171013",
   "metadata": {
    "execution": {
     "iopub.execute_input": "2022-07-29T12:26:12.141659Z",
     "iopub.status.busy": "2022-07-29T12:26:12.141232Z",
     "iopub.status.idle": "2022-07-29T12:26:12.169396Z",
     "shell.execute_reply": "2022-07-29T12:26:12.168291Z"
    },
    "papermill": {
     "duration": 0.047215,
     "end_time": "2022-07-29T12:26:12.171755",
     "exception": false,
     "start_time": "2022-07-29T12:26:12.124540",
     "status": "completed"
    },
    "tags": []
   },
   "outputs": [
    {
     "data": {
      "text/html": [
       "<div>\n",
       "<style scoped>\n",
       "    .dataframe tbody tr th:only-of-type {\n",
       "        vertical-align: middle;\n",
       "    }\n",
       "\n",
       "    .dataframe tbody tr th {\n",
       "        vertical-align: top;\n",
       "    }\n",
       "\n",
       "    .dataframe thead th {\n",
       "        text-align: right;\n",
       "    }\n",
       "</style>\n",
       "<table border=\"1\" class=\"dataframe\">\n",
       "  <thead>\n",
       "    <tr style=\"text-align: right;\">\n",
       "      <th></th>\n",
       "      <th>mean radius</th>\n",
       "      <th>mean texture</th>\n",
       "      <th>mean perimeter</th>\n",
       "      <th>mean area</th>\n",
       "      <th>mean smoothness</th>\n",
       "      <th>mean compactness</th>\n",
       "      <th>mean concavity</th>\n",
       "      <th>mean concave points</th>\n",
       "      <th>mean symmetry</th>\n",
       "      <th>mean fractal dimension</th>\n",
       "      <th>...</th>\n",
       "      <th>worst radius</th>\n",
       "      <th>worst texture</th>\n",
       "      <th>worst perimeter</th>\n",
       "      <th>worst area</th>\n",
       "      <th>worst smoothness</th>\n",
       "      <th>worst compactness</th>\n",
       "      <th>worst concavity</th>\n",
       "      <th>worst concave points</th>\n",
       "      <th>worst symmetry</th>\n",
       "      <th>worst fractal dimension</th>\n",
       "    </tr>\n",
       "    <tr>\n",
       "      <th>target</th>\n",
       "      <th></th>\n",
       "      <th></th>\n",
       "      <th></th>\n",
       "      <th></th>\n",
       "      <th></th>\n",
       "      <th></th>\n",
       "      <th></th>\n",
       "      <th></th>\n",
       "      <th></th>\n",
       "      <th></th>\n",
       "      <th></th>\n",
       "      <th></th>\n",
       "      <th></th>\n",
       "      <th></th>\n",
       "      <th></th>\n",
       "      <th></th>\n",
       "      <th></th>\n",
       "      <th></th>\n",
       "      <th></th>\n",
       "      <th></th>\n",
       "      <th></th>\n",
       "    </tr>\n",
       "  </thead>\n",
       "  <tbody>\n",
       "    <tr>\n",
       "      <th>0</th>\n",
       "      <td>17.462830</td>\n",
       "      <td>21.604906</td>\n",
       "      <td>115.365377</td>\n",
       "      <td>978.376415</td>\n",
       "      <td>0.102898</td>\n",
       "      <td>0.145188</td>\n",
       "      <td>0.160775</td>\n",
       "      <td>0.087990</td>\n",
       "      <td>0.192909</td>\n",
       "      <td>0.062680</td>\n",
       "      <td>...</td>\n",
       "      <td>21.134811</td>\n",
       "      <td>29.318208</td>\n",
       "      <td>141.370330</td>\n",
       "      <td>1422.286321</td>\n",
       "      <td>0.144845</td>\n",
       "      <td>0.374824</td>\n",
       "      <td>0.450606</td>\n",
       "      <td>0.182237</td>\n",
       "      <td>0.323468</td>\n",
       "      <td>0.091530</td>\n",
       "    </tr>\n",
       "    <tr>\n",
       "      <th>1</th>\n",
       "      <td>12.146524</td>\n",
       "      <td>17.914762</td>\n",
       "      <td>78.075406</td>\n",
       "      <td>462.790196</td>\n",
       "      <td>0.092478</td>\n",
       "      <td>0.080085</td>\n",
       "      <td>0.046058</td>\n",
       "      <td>0.025717</td>\n",
       "      <td>0.174186</td>\n",
       "      <td>0.062867</td>\n",
       "      <td>...</td>\n",
       "      <td>13.379801</td>\n",
       "      <td>23.515070</td>\n",
       "      <td>87.005938</td>\n",
       "      <td>558.899440</td>\n",
       "      <td>0.124959</td>\n",
       "      <td>0.182673</td>\n",
       "      <td>0.166238</td>\n",
       "      <td>0.074444</td>\n",
       "      <td>0.270246</td>\n",
       "      <td>0.079442</td>\n",
       "    </tr>\n",
       "  </tbody>\n",
       "</table>\n",
       "<p>2 rows × 30 columns</p>\n",
       "</div>"
      ],
      "text/plain": [
       "        mean radius  mean texture  mean perimeter   mean area  \\\n",
       "target                                                          \n",
       "0         17.462830     21.604906      115.365377  978.376415   \n",
       "1         12.146524     17.914762       78.075406  462.790196   \n",
       "\n",
       "        mean smoothness  mean compactness  mean concavity  \\\n",
       "target                                                      \n",
       "0              0.102898          0.145188        0.160775   \n",
       "1              0.092478          0.080085        0.046058   \n",
       "\n",
       "        mean concave points  mean symmetry  mean fractal dimension  ...  \\\n",
       "target                                                              ...   \n",
       "0                  0.087990       0.192909                0.062680  ...   \n",
       "1                  0.025717       0.174186                0.062867  ...   \n",
       "\n",
       "        worst radius  worst texture  worst perimeter   worst area  \\\n",
       "target                                                              \n",
       "0          21.134811      29.318208       141.370330  1422.286321   \n",
       "1          13.379801      23.515070        87.005938   558.899440   \n",
       "\n",
       "        worst smoothness  worst compactness  worst concavity  \\\n",
       "target                                                         \n",
       "0               0.144845           0.374824         0.450606   \n",
       "1               0.124959           0.182673         0.166238   \n",
       "\n",
       "        worst concave points  worst symmetry  worst fractal dimension  \n",
       "target                                                                 \n",
       "0                   0.182237        0.323468                 0.091530  \n",
       "1                   0.074444        0.270246                 0.079442  \n",
       "\n",
       "[2 rows x 30 columns]"
      ]
     },
     "execution_count": 13,
     "metadata": {},
     "output_type": "execute_result"
    }
   ],
   "source": [
    "df.groupby('target').mean()\n"
   ]
  },
  {
   "cell_type": "markdown",
   "id": "3ec8486c",
   "metadata": {
    "papermill": {
     "duration": 0.015535,
     "end_time": "2022-07-29T12:26:12.202939",
     "exception": false,
     "start_time": "2022-07-29T12:26:12.187404",
     "status": "completed"
    },
    "tags": []
   },
   "source": [
    "Marking the features and target"
   ]
  },
  {
   "cell_type": "code",
   "execution_count": 14,
   "id": "f45fa8fb",
   "metadata": {
    "execution": {
     "iopub.execute_input": "2022-07-29T12:26:12.237247Z",
     "iopub.status.busy": "2022-07-29T12:26:12.236408Z",
     "iopub.status.idle": "2022-07-29T12:26:12.242942Z",
     "shell.execute_reply": "2022-07-29T12:26:12.241997Z"
    },
    "papermill": {
     "duration": 0.0265,
     "end_time": "2022-07-29T12:26:12.245505",
     "exception": false,
     "start_time": "2022-07-29T12:26:12.219005",
     "status": "completed"
    },
    "tags": []
   },
   "outputs": [],
   "source": [
    "X = df.drop(columns = 'target',axis=1)\n",
    "Y = df['target']"
   ]
  },
  {
   "cell_type": "code",
   "execution_count": 15,
   "id": "a8cbf7d8",
   "metadata": {
    "execution": {
     "iopub.execute_input": "2022-07-29T12:26:12.279752Z",
     "iopub.status.busy": "2022-07-29T12:26:12.278924Z",
     "iopub.status.idle": "2022-07-29T12:26:12.299919Z",
     "shell.execute_reply": "2022-07-29T12:26:12.298399Z"
    },
    "papermill": {
     "duration": 0.040993,
     "end_time": "2022-07-29T12:26:12.302667",
     "exception": false,
     "start_time": "2022-07-29T12:26:12.261674",
     "status": "completed"
    },
    "tags": []
   },
   "outputs": [
    {
     "name": "stdout",
     "output_type": "stream",
     "text": [
      "     mean radius  mean texture  mean perimeter  mean area  mean smoothness  \\\n",
      "0          17.99         10.38          122.80     1001.0          0.11840   \n",
      "1          20.57         17.77          132.90     1326.0          0.08474   \n",
      "2          19.69         21.25          130.00     1203.0          0.10960   \n",
      "3          11.42         20.38           77.58      386.1          0.14250   \n",
      "4          20.29         14.34          135.10     1297.0          0.10030   \n",
      "..           ...           ...             ...        ...              ...   \n",
      "564        21.56         22.39          142.00     1479.0          0.11100   \n",
      "565        20.13         28.25          131.20     1261.0          0.09780   \n",
      "566        16.60         28.08          108.30      858.1          0.08455   \n",
      "567        20.60         29.33          140.10     1265.0          0.11780   \n",
      "568         7.76         24.54           47.92      181.0          0.05263   \n",
      "\n",
      "     mean compactness  mean concavity  mean concave points  mean symmetry  \\\n",
      "0             0.27760         0.30010              0.14710         0.2419   \n",
      "1             0.07864         0.08690              0.07017         0.1812   \n",
      "2             0.15990         0.19740              0.12790         0.2069   \n",
      "3             0.28390         0.24140              0.10520         0.2597   \n",
      "4             0.13280         0.19800              0.10430         0.1809   \n",
      "..                ...             ...                  ...            ...   \n",
      "564           0.11590         0.24390              0.13890         0.1726   \n",
      "565           0.10340         0.14400              0.09791         0.1752   \n",
      "566           0.10230         0.09251              0.05302         0.1590   \n",
      "567           0.27700         0.35140              0.15200         0.2397   \n",
      "568           0.04362         0.00000              0.00000         0.1587   \n",
      "\n",
      "     mean fractal dimension  ...  worst radius  worst texture  \\\n",
      "0                   0.07871  ...        25.380          17.33   \n",
      "1                   0.05667  ...        24.990          23.41   \n",
      "2                   0.05999  ...        23.570          25.53   \n",
      "3                   0.09744  ...        14.910          26.50   \n",
      "4                   0.05883  ...        22.540          16.67   \n",
      "..                      ...  ...           ...            ...   \n",
      "564                 0.05623  ...        25.450          26.40   \n",
      "565                 0.05533  ...        23.690          38.25   \n",
      "566                 0.05648  ...        18.980          34.12   \n",
      "567                 0.07016  ...        25.740          39.42   \n",
      "568                 0.05884  ...         9.456          30.37   \n",
      "\n",
      "     worst perimeter  worst area  worst smoothness  worst compactness  \\\n",
      "0             184.60      2019.0           0.16220            0.66560   \n",
      "1             158.80      1956.0           0.12380            0.18660   \n",
      "2             152.50      1709.0           0.14440            0.42450   \n",
      "3              98.87       567.7           0.20980            0.86630   \n",
      "4             152.20      1575.0           0.13740            0.20500   \n",
      "..               ...         ...               ...                ...   \n",
      "564           166.10      2027.0           0.14100            0.21130   \n",
      "565           155.00      1731.0           0.11660            0.19220   \n",
      "566           126.70      1124.0           0.11390            0.30940   \n",
      "567           184.60      1821.0           0.16500            0.86810   \n",
      "568            59.16       268.6           0.08996            0.06444   \n",
      "\n",
      "     worst concavity  worst concave points  worst symmetry  \\\n",
      "0             0.7119                0.2654          0.4601   \n",
      "1             0.2416                0.1860          0.2750   \n",
      "2             0.4504                0.2430          0.3613   \n",
      "3             0.6869                0.2575          0.6638   \n",
      "4             0.4000                0.1625          0.2364   \n",
      "..               ...                   ...             ...   \n",
      "564           0.4107                0.2216          0.2060   \n",
      "565           0.3215                0.1628          0.2572   \n",
      "566           0.3403                0.1418          0.2218   \n",
      "567           0.9387                0.2650          0.4087   \n",
      "568           0.0000                0.0000          0.2871   \n",
      "\n",
      "     worst fractal dimension  \n",
      "0                    0.11890  \n",
      "1                    0.08902  \n",
      "2                    0.08758  \n",
      "3                    0.17300  \n",
      "4                    0.07678  \n",
      "..                       ...  \n",
      "564                  0.07115  \n",
      "565                  0.06637  \n",
      "566                  0.07820  \n",
      "567                  0.12400  \n",
      "568                  0.07039  \n",
      "\n",
      "[569 rows x 30 columns]\n"
     ]
    }
   ],
   "source": [
    "print(X)"
   ]
  },
  {
   "cell_type": "code",
   "execution_count": 16,
   "id": "2ec5c661",
   "metadata": {
    "execution": {
     "iopub.execute_input": "2022-07-29T12:26:12.337620Z",
     "iopub.status.busy": "2022-07-29T12:26:12.336904Z",
     "iopub.status.idle": "2022-07-29T12:26:12.343833Z",
     "shell.execute_reply": "2022-07-29T12:26:12.342324Z"
    },
    "papermill": {
     "duration": 0.027599,
     "end_time": "2022-07-29T12:26:12.346547",
     "exception": false,
     "start_time": "2022-07-29T12:26:12.318948",
     "status": "completed"
    },
    "tags": []
   },
   "outputs": [
    {
     "name": "stdout",
     "output_type": "stream",
     "text": [
      "0      0\n",
      "1      0\n",
      "2      0\n",
      "3      0\n",
      "4      0\n",
      "      ..\n",
      "564    0\n",
      "565    0\n",
      "566    0\n",
      "567    0\n",
      "568    1\n",
      "Name: target, Length: 569, dtype: int64\n"
     ]
    }
   ],
   "source": [
    "print (Y)"
   ]
  },
  {
   "cell_type": "markdown",
   "id": "1e0ad044",
   "metadata": {
    "papermill": {
     "duration": 0.016072,
     "end_time": "2022-07-29T12:26:12.379647",
     "exception": false,
     "start_time": "2022-07-29T12:26:12.363575",
     "status": "completed"
    },
    "tags": []
   },
   "source": [
    "Split the data into train test split"
   ]
  },
  {
   "cell_type": "code",
   "execution_count": 17,
   "id": "ef98cf8d",
   "metadata": {
    "execution": {
     "iopub.execute_input": "2022-07-29T12:26:12.414227Z",
     "iopub.status.busy": "2022-07-29T12:26:12.413790Z",
     "iopub.status.idle": "2022-07-29T12:26:12.422041Z",
     "shell.execute_reply": "2022-07-29T12:26:12.420728Z"
    },
    "papermill": {
     "duration": 0.028458,
     "end_time": "2022-07-29T12:26:12.424387",
     "exception": false,
     "start_time": "2022-07-29T12:26:12.395929",
     "status": "completed"
    },
    "tags": []
   },
   "outputs": [],
   "source": [
    "X_train,X_test,Y_train,Y_test = train_test_split(X,Y,random_state = 2, test_size =0.1)"
   ]
  },
  {
   "cell_type": "code",
   "execution_count": 18,
   "id": "640cb552",
   "metadata": {
    "execution": {
     "iopub.execute_input": "2022-07-29T12:26:12.458894Z",
     "iopub.status.busy": "2022-07-29T12:26:12.458413Z",
     "iopub.status.idle": "2022-07-29T12:26:12.464886Z",
     "shell.execute_reply": "2022-07-29T12:26:12.463156Z"
    },
    "papermill": {
     "duration": 0.027051,
     "end_time": "2022-07-29T12:26:12.467662",
     "exception": false,
     "start_time": "2022-07-29T12:26:12.440611",
     "status": "completed"
    },
    "tags": []
   },
   "outputs": [
    {
     "name": "stdout",
     "output_type": "stream",
     "text": [
      "(569, 30) (512, 30)\n"
     ]
    }
   ],
   "source": [
    "print(X.shape,X_train.shape)"
   ]
  },
  {
   "cell_type": "markdown",
   "id": "276efd8c",
   "metadata": {
    "papermill": {
     "duration": 0.016126,
     "end_time": "2022-07-29T12:26:12.500039",
     "exception": false,
     "start_time": "2022-07-29T12:26:12.483913",
     "status": "completed"
    },
    "tags": []
   },
   "source": [
    "Apply standard Scaler\n",
    "\n",
    "--We always apply standard scaler after spliting into training dataset and test dataset\n",
    "\n"
   ]
  },
  {
   "cell_type": "code",
   "execution_count": 19,
   "id": "1a94296a",
   "metadata": {
    "execution": {
     "iopub.execute_input": "2022-07-29T12:26:12.534316Z",
     "iopub.status.busy": "2022-07-29T12:26:12.533607Z",
     "iopub.status.idle": "2022-07-29T12:26:12.538818Z",
     "shell.execute_reply": "2022-07-29T12:26:12.537545Z"
    },
    "papermill": {
     "duration": 0.025275,
     "end_time": "2022-07-29T12:26:12.541380",
     "exception": false,
     "start_time": "2022-07-29T12:26:12.516105",
     "status": "completed"
    },
    "tags": []
   },
   "outputs": [],
   "source": [
    "from sklearn.preprocessing import StandardScaler"
   ]
  },
  {
   "cell_type": "code",
   "execution_count": 20,
   "id": "99d13b8b",
   "metadata": {
    "execution": {
     "iopub.execute_input": "2022-07-29T12:26:12.576173Z",
     "iopub.status.busy": "2022-07-29T12:26:12.575772Z",
     "iopub.status.idle": "2022-07-29T12:26:12.588762Z",
     "shell.execute_reply": "2022-07-29T12:26:12.587853Z"
    },
    "papermill": {
     "duration": 0.033356,
     "end_time": "2022-07-29T12:26:12.591283",
     "exception": false,
     "start_time": "2022-07-29T12:26:12.557927",
     "status": "completed"
    },
    "tags": []
   },
   "outputs": [],
   "source": [
    "scaler = StandardScaler()\n",
    "X_train_scaled = scaler.fit_transform(X_train)\n",
    "## we dont fit the data to test data, we do it only to train data\n",
    "# X_test_scaled = scaler.fit_transform(X_test)\n",
    "X_test_scaled = scaler.transform(X_test)"
   ]
  },
  {
   "cell_type": "code",
   "execution_count": 21,
   "id": "8614a76a",
   "metadata": {
    "execution": {
     "iopub.execute_input": "2022-07-29T12:26:12.625647Z",
     "iopub.status.busy": "2022-07-29T12:26:12.624844Z",
     "iopub.status.idle": "2022-07-29T12:26:12.631276Z",
     "shell.execute_reply": "2022-07-29T12:26:12.630512Z"
    },
    "papermill": {
     "duration": 0.026019,
     "end_time": "2022-07-29T12:26:12.633448",
     "exception": false,
     "start_time": "2022-07-29T12:26:12.607429",
     "status": "completed"
    },
    "tags": []
   },
   "outputs": [
    {
     "data": {
      "text/plain": [
       "array([[-1.12131135, -1.0377998 , -1.12795461, ..., -1.34880569,\n",
       "         1.01888845, -0.22246861],\n",
       "       [-0.76615041,  0.23644588, -0.59111248, ...,  2.14255968,\n",
       "         5.91994748,  4.86553884],\n",
       "       [-1.03323143, -1.01463169, -1.00682523, ..., -0.3345905 ,\n",
       "         0.16466297,  0.66902925],\n",
       "       ...,\n",
       "       [-0.4706565 , -1.51274591, -0.5396119 , ..., -1.33358719,\n",
       "        -1.01248201, -0.76635906],\n",
       "       [-0.50475195, -1.64248729, -0.53507984, ..., -0.12514775,\n",
       "         0.30782925, -0.45713102],\n",
       "       [ 0.95282855,  1.23267431,  0.99592964, ...,  0.85576756,\n",
       "        -1.20337038,  0.47932552]])"
      ]
     },
     "execution_count": 21,
     "metadata": {},
     "output_type": "execute_result"
    }
   ],
   "source": [
    "X_train_scaled"
   ]
  },
  {
   "cell_type": "markdown",
   "id": "a22cc717",
   "metadata": {
    "papermill": {
     "duration": 0.016265,
     "end_time": "2022-07-29T12:26:12.666012",
     "exception": false,
     "start_time": "2022-07-29T12:26:12.649747",
     "status": "completed"
    },
    "tags": []
   },
   "source": [
    "## Building a Neural Network"
   ]
  },
  {
   "cell_type": "code",
   "execution_count": 22,
   "id": "408b78bd",
   "metadata": {
    "execution": {
     "iopub.execute_input": "2022-07-29T12:26:12.700958Z",
     "iopub.status.busy": "2022-07-29T12:26:12.700210Z",
     "iopub.status.idle": "2022-07-29T12:26:18.232355Z",
     "shell.execute_reply": "2022-07-29T12:26:18.231034Z"
    },
    "papermill": {
     "duration": 5.552928,
     "end_time": "2022-07-29T12:26:18.235303",
     "exception": false,
     "start_time": "2022-07-29T12:26:12.682375",
     "status": "completed"
    },
    "tags": []
   },
   "outputs": [],
   "source": [
    "# import tensorflow and keras libraries\n",
    "import tensorflow as tf\n",
    "\n",
    "## random seed gives the same accuracy score ..same reproducable results\n",
    "tf.random.set_seed(3)\n",
    "from tensorflow import keras"
   ]
  },
  {
   "cell_type": "code",
   "execution_count": 23,
   "id": "731f2af3",
   "metadata": {
    "execution": {
     "iopub.execute_input": "2022-07-29T12:26:18.271722Z",
     "iopub.status.busy": "2022-07-29T12:26:18.270502Z",
     "iopub.status.idle": "2022-07-29T12:26:19.917036Z",
     "shell.execute_reply": "2022-07-29T12:26:19.915608Z"
    },
    "papermill": {
     "duration": 1.668017,
     "end_time": "2022-07-29T12:26:19.920024",
     "exception": false,
     "start_time": "2022-07-29T12:26:18.252007",
     "status": "completed"
    },
    "tags": []
   },
   "outputs": [
    {
     "name": "stderr",
     "output_type": "stream",
     "text": [
      "2022-07-29 12:26:19.835594: I tensorflow/core/common_runtime/process_util.cc:146] Creating new thread pool with default inter op setting: 2. Tune using inter_op_parallelism_threads for best performance.\n"
     ]
    }
   ],
   "source": [
    "# setting up the layers for the neural network\n",
    "\n",
    "model = keras.Sequential([\n",
    "    keras.layers.Flatten(input_shape=(30,)), #input layer  #convert into 1D array and each feature will go to one neuron from the X_train dataset\n",
    "    keras.layers.Dense(20,activation ='relu'),    # hidden layer\n",
    "    keras.layers.Dense(2 , activation = 'sigmoid')   #output layer\n",
    "])"
   ]
  },
  {
   "cell_type": "code",
   "execution_count": 24,
   "id": "96001a0e",
   "metadata": {
    "execution": {
     "iopub.execute_input": "2022-07-29T12:26:19.954692Z",
     "iopub.status.busy": "2022-07-29T12:26:19.954227Z",
     "iopub.status.idle": "2022-07-29T12:26:19.970965Z",
     "shell.execute_reply": "2022-07-29T12:26:19.969873Z"
    },
    "papermill": {
     "duration": 0.03708,
     "end_time": "2022-07-29T12:26:19.973648",
     "exception": false,
     "start_time": "2022-07-29T12:26:19.936568",
     "status": "completed"
    },
    "tags": []
   },
   "outputs": [],
   "source": [
    "#compile the neural network with optimizers,loss etc.\n",
    "#when target is numerical ..i.e: dog-0,cat-1,horse-2.. then we use sparse categorical crossentropy\n",
    "#when we have OHE One hot encoded labels we use categorical crossentropy\n",
    "model.compile(optimizer = 'adam',\n",
    "             loss = 'sparse_categorical_crossentropy',\n",
    "             metrics=['accuracy'])"
   ]
  },
  {
   "cell_type": "markdown",
   "id": "26f7aa91",
   "metadata": {
    "papermill": {
     "duration": 0.016718,
     "end_time": "2022-07-29T12:26:20.008136",
     "exception": false,
     "start_time": "2022-07-29T12:26:19.991418",
     "status": "completed"
    },
    "tags": []
   },
   "source": [
    "Training the Neural Network"
   ]
  },
  {
   "cell_type": "code",
   "execution_count": null,
   "id": "422ed789",
   "metadata": {
    "papermill": {
     "duration": 0.016437,
     "end_time": "2022-07-29T12:26:20.041142",
     "exception": false,
     "start_time": "2022-07-29T12:26:20.024705",
     "status": "completed"
    },
    "tags": []
   },
   "outputs": [],
   "source": []
  },
  {
   "cell_type": "code",
   "execution_count": 25,
   "id": "0d6389e1",
   "metadata": {
    "execution": {
     "iopub.execute_input": "2022-07-29T12:26:20.076701Z",
     "iopub.status.busy": "2022-07-29T12:26:20.075876Z",
     "iopub.status.idle": "2022-07-29T12:26:21.971716Z",
     "shell.execute_reply": "2022-07-29T12:26:21.970167Z"
    },
    "papermill": {
     "duration": 1.916917,
     "end_time": "2022-07-29T12:26:21.974794",
     "exception": false,
     "start_time": "2022-07-29T12:26:20.057877",
     "status": "completed"
    },
    "tags": []
   },
   "outputs": [
    {
     "name": "stderr",
     "output_type": "stream",
     "text": [
      "2022-07-29 12:26:20.176537: I tensorflow/compiler/mlir/mlir_graph_optimization_pass.cc:185] None of the MLIR Optimization Passes are enabled (registered 2)\n"
     ]
    },
    {
     "name": "stdout",
     "output_type": "stream",
     "text": [
      "Epoch 1/10\n",
      "15/15 [==============================] - 1s 19ms/step - loss: 0.5598 - accuracy: 0.7283 - val_loss: 0.3450 - val_accuracy: 0.9423\n",
      "Epoch 2/10\n",
      "15/15 [==============================] - 0s 4ms/step - loss: 0.3757 - accuracy: 0.8804 - val_loss: 0.2498 - val_accuracy: 0.9808\n",
      "Epoch 3/10\n",
      "15/15 [==============================] - 0s 4ms/step - loss: 0.2782 - accuracy: 0.9109 - val_loss: 0.1995 - val_accuracy: 0.9808\n",
      "Epoch 4/10\n",
      "15/15 [==============================] - 0s 4ms/step - loss: 0.2258 - accuracy: 0.9217 - val_loss: 0.1693 - val_accuracy: 0.9808\n",
      "Epoch 5/10\n",
      "15/15 [==============================] - 0s 4ms/step - loss: 0.1931 - accuracy: 0.9326 - val_loss: 0.1482 - val_accuracy: 0.9808\n",
      "Epoch 6/10\n",
      "15/15 [==============================] - 0s 5ms/step - loss: 0.1704 - accuracy: 0.9413 - val_loss: 0.1338 - val_accuracy: 0.9808\n",
      "Epoch 7/10\n",
      "15/15 [==============================] - 0s 4ms/step - loss: 0.1532 - accuracy: 0.9478 - val_loss: 0.1223 - val_accuracy: 0.9808\n",
      "Epoch 8/10\n",
      "15/15 [==============================] - 0s 4ms/step - loss: 0.1396 - accuracy: 0.9500 - val_loss: 0.1132 - val_accuracy: 0.9808\n",
      "Epoch 9/10\n",
      "15/15 [==============================] - 0s 4ms/step - loss: 0.1283 - accuracy: 0.9630 - val_loss: 0.1058 - val_accuracy: 0.9808\n",
      "Epoch 10/10\n",
      "15/15 [==============================] - 0s 4ms/step - loss: 0.1187 - accuracy: 0.9696 - val_loss: 0.0998 - val_accuracy: 0.9808\n"
     ]
    }
   ],
   "source": [
    "history = model.fit(X_train_scaled,Y_train,validation_split=0.1,epochs=10)"
   ]
  },
  {
   "cell_type": "markdown",
   "id": "f695af2c",
   "metadata": {
    "papermill": {
     "duration": 0.0184,
     "end_time": "2022-07-29T12:26:22.012151",
     "exception": false,
     "start_time": "2022-07-29T12:26:21.993751",
     "status": "completed"
    },
    "tags": []
   },
   "source": [
    "You can clearly see the difference between accuracy in scaled vs Non scaled data"
   ]
  },
  {
   "cell_type": "markdown",
   "id": "923bca2b",
   "metadata": {
    "papermill": {
     "duration": 0.018357,
     "end_time": "2022-07-29T12:26:22.049653",
     "exception": false,
     "start_time": "2022-07-29T12:26:22.031296",
     "status": "completed"
    },
    "tags": []
   },
   "source": [
    "Visualising accuracy and loss\n",
    "\n",
    "--try doing this using tensorboard also"
   ]
  },
  {
   "cell_type": "code",
   "execution_count": 26,
   "id": "f09b108d",
   "metadata": {
    "execution": {
     "iopub.execute_input": "2022-07-29T12:26:22.088648Z",
     "iopub.status.busy": "2022-07-29T12:26:22.087756Z",
     "iopub.status.idle": "2022-07-29T12:26:22.329747Z",
     "shell.execute_reply": "2022-07-29T12:26:22.328535Z"
    },
    "papermill": {
     "duration": 0.264611,
     "end_time": "2022-07-29T12:26:22.332496",
     "exception": false,
     "start_time": "2022-07-29T12:26:22.067885",
     "status": "completed"
    },
    "tags": []
   },
   "outputs": [
    {
     "data": {
      "text/plain": [
       "<matplotlib.legend.Legend at 0x7f1dd00fc3d0>"
      ]
     },
     "execution_count": 26,
     "metadata": {},
     "output_type": "execute_result"
    },
    {
     "data": {
      "image/png": "[encoded data removed]",
      "text/plain": [
       "<Figure size 432x288 with 1 Axes>"
      ]
     },
     "metadata": {
      "needs_background": "light"
     },
     "output_type": "display_data"
    }
   ],
   "source": [
    "plt.plot(history.history['accuracy'])\n",
    "plt.plot(history.history['val_accuracy'])\n",
    "\n",
    "plt.title('Model Accuracy')\n",
    "plt.xlabel('Epochs')\n",
    "plt.ylabel('Accuracy')\n",
    "plt.legend(['training data','validation_data'],loc='lower right')"
   ]
  },
  {
   "cell_type": "code",
   "execution_count": 27,
   "id": "b0a7285f",
   "metadata": {
    "execution": {
     "iopub.execute_input": "2022-07-29T12:26:22.372490Z",
     "iopub.status.busy": "2022-07-29T12:26:22.371536Z",
     "iopub.status.idle": "2022-07-29T12:26:22.572874Z",
     "shell.execute_reply": "2022-07-29T12:26:22.571555Z"
    },
    "papermill": {
     "duration": 0.224582,
     "end_time": "2022-07-29T12:26:22.575809",
     "exception": false,
     "start_time": "2022-07-29T12:26:22.351227",
     "status": "completed"
    },
    "tags": []
   },
   "outputs": [
    {
     "data": {
      "text/plain": [
       "<matplotlib.legend.Legend at 0x7f1dd3f16bd0>"
      ]
     },
     "execution_count": 27,
     "metadata": {},
     "output_type": "execute_result"
    },
    {
     "data": {
      "image/png": "[encoded data removed]",
      "text/plain": [
       "<Figure size 432x288 with 1 Axes>"
      ]
     },
     "metadata": {
      "needs_background": "light"
     },
     "output_type": "display_data"
    }
   ],
   "source": [
    "plt.plot(history.history['loss'])\n",
    "plt.plot(history.history['val_loss'])\n",
    "\n",
    "plt.title('Model Loss')\n",
    "plt.xlabel('Epochs')\n",
    "plt.ylabel('Loss')\n",
    "plt.legend(['training data','validation_data'],loc='lower right')"
   ]
  },
  {
   "cell_type": "markdown",
   "id": "b1d8fb39",
   "metadata": {
    "papermill": {
     "duration": 0.018749,
     "end_time": "2022-07-29T12:26:22.613616",
     "exception": false,
     "start_time": "2022-07-29T12:26:22.594867",
     "status": "completed"
    },
    "tags": []
   },
   "source": [
    "Getting the Accuracy of the Model on TEST DATA"
   ]
  },
  {
   "cell_type": "code",
   "execution_count": 28,
   "id": "aaecd274",
   "metadata": {
    "execution": {
     "iopub.execute_input": "2022-07-29T12:26:22.653607Z",
     "iopub.status.busy": "2022-07-29T12:26:22.653176Z",
     "iopub.status.idle": "2022-07-29T12:26:22.731179Z",
     "shell.execute_reply": "2022-07-29T12:26:22.729546Z"
    },
    "papermill": {
     "duration": 0.101199,
     "end_time": "2022-07-29T12:26:22.733856",
     "exception": false,
     "start_time": "2022-07-29T12:26:22.632657",
     "status": "completed"
    },
    "tags": []
   },
   "outputs": [
    {
     "name": "stdout",
     "output_type": "stream",
     "text": [
      "2/2 [==============================] - 0s 4ms/step - loss: 0.1418 - accuracy: 0.9649\n",
      "Accuracy value is: 0.9649122953414917\n"
     ]
    }
   ],
   "source": [
    "loss,accuracy = model.evaluate(X_test_scaled,Y_test)\n",
    "print(\"Accuracy value is:\",accuracy)"
   ]
  },
  {
   "cell_type": "markdown",
   "id": "a24b27f8",
   "metadata": {
    "papermill": {
     "duration": 0.019866,
     "end_time": "2022-07-29T12:26:22.773629",
     "exception": false,
     "start_time": "2022-07-29T12:26:22.753763",
     "status": "completed"
    },
    "tags": []
   },
   "source": [
    "## Build a Predictive Model"
   ]
  },
  {
   "cell_type": "code",
   "execution_count": 29,
   "id": "1c012d01",
   "metadata": {
    "execution": {
     "iopub.execute_input": "2022-07-29T12:26:22.814754Z",
     "iopub.status.busy": "2022-07-29T12:26:22.813671Z",
     "iopub.status.idle": "2022-07-29T12:26:22.821228Z",
     "shell.execute_reply": "2022-07-29T12:26:22.820392Z"
    },
    "papermill": {
     "duration": 0.03033,
     "end_time": "2022-07-29T12:26:22.823393",
     "exception": false,
     "start_time": "2022-07-29T12:26:22.793063",
     "status": "completed"
    },
    "tags": []
   },
   "outputs": [
    {
     "data": {
      "text/plain": [
       "array([-0.05014595, -1.43397436, -0.0666305 , -0.16896875,  2.00130866,\n",
       "       -0.14461712,  0.14826501,  0.43821909,  0.58694955,  0.23195976,\n",
       "        0.5127032 ,  2.61793399,  0.60496095,  0.103997  ,  0.9793095 ,\n",
       "        0.37358868,  0.59188895,  2.80272108, -0.41828581,  0.68908991,\n",
       "       -0.33951447, -1.69944382, -0.3799908 , -0.39864381,  0.29733091,\n",
       "       -0.77007935, -0.57106522, -0.20802078, -1.20337038, -0.64299681])"
      ]
     },
     "execution_count": 29,
     "metadata": {},
     "output_type": "execute_result"
    }
   ],
   "source": [
    "X_test_scaled.shape\n",
    "X_test_scaled[0]"
   ]
  },
  {
   "cell_type": "code",
   "execution_count": 30,
   "id": "ae6dac5f",
   "metadata": {
    "execution": {
     "iopub.execute_input": "2022-07-29T12:26:22.864859Z",
     "iopub.status.busy": "2022-07-29T12:26:22.864062Z",
     "iopub.status.idle": "2022-07-29T12:26:23.002753Z",
     "shell.execute_reply": "2022-07-29T12:26:23.001379Z"
    },
    "papermill": {
     "duration": 0.162407,
     "end_time": "2022-07-29T12:26:23.005632",
     "exception": false,
     "start_time": "2022-07-29T12:26:22.843225",
     "status": "completed"
    },
    "tags": []
   },
   "outputs": [],
   "source": [
    "Y_pred = model.predict(X_test_scaled)"
   ]
  },
  {
   "cell_type": "code",
   "execution_count": 31,
   "id": "6e003763",
   "metadata": {
    "execution": {
     "iopub.execute_input": "2022-07-29T12:26:23.047013Z",
     "iopub.status.busy": "2022-07-29T12:26:23.046380Z",
     "iopub.status.idle": "2022-07-29T12:26:23.053235Z",
     "shell.execute_reply": "2022-07-29T12:26:23.051657Z"
    },
    "papermill": {
     "duration": 0.030255,
     "end_time": "2022-07-29T12:26:23.055518",
     "exception": false,
     "start_time": "2022-07-29T12:26:23.025263",
     "status": "completed"
    },
    "tags": []
   },
   "outputs": [
    {
     "name": "stdout",
     "output_type": "stream",
     "text": [
      "(57, 2)\n",
      "[0.4439516 0.6565707]\n"
     ]
    }
   ],
   "source": [
    "print(Y_pred.shape)\n",
    "print(Y_pred[1])"
   ]
  },
  {
   "cell_type": "code",
   "execution_count": 32,
   "id": "77bd211f",
   "metadata": {
    "execution": {
     "iopub.execute_input": "2022-07-29T12:26:23.096740Z",
     "iopub.status.busy": "2022-07-29T12:26:23.096308Z",
     "iopub.status.idle": "2022-07-29T12:26:23.104743Z",
     "shell.execute_reply": "2022-07-29T12:26:23.103368Z"
    },
    "papermill": {
     "duration": 0.031904,
     "end_time": "2022-07-29T12:26:23.107216",
     "exception": false,
     "start_time": "2022-07-29T12:26:23.075312",
     "status": "completed"
    },
    "tags": []
   },
   "outputs": [
    {
     "data": {
      "text/plain": [
       "array([[-0.05014595, -1.43397436, -0.0666305 , ..., -0.20802078,\n",
       "        -1.20337038, -0.64299681],\n",
       "       [ 0.23966538, -0.06010584,  0.21023667, ...,  0.50619405,\n",
       "         0.07240026,  0.02535244],\n",
       "       [-1.26394398, -0.29178687, -1.27174425, ..., -1.36070927,\n",
       "         0.22352022, -0.30196873],\n",
       "       ...,\n",
       "       [-1.11847006, -0.42384506, -1.10447034, ..., -0.8973737 ,\n",
       "         0.22033875,  0.20354236],\n",
       "       [ 0.28512598, -0.62077394,  0.28233749, ...,  0.14908664,\n",
       "         0.79300387,  0.72056725],\n",
       "       [-0.68375307, -0.62309075, -0.70894583, ..., -0.68747892,\n",
       "        -1.91602032, -0.59365191]])"
      ]
     },
     "execution_count": 32,
     "metadata": {},
     "output_type": "execute_result"
    }
   ],
   "source": [
    "X_test_scaled"
   ]
  },
  {
   "cell_type": "code",
   "execution_count": 33,
   "id": "d0fd0ade",
   "metadata": {
    "execution": {
     "iopub.execute_input": "2022-07-29T12:26:23.148886Z",
     "iopub.status.busy": "2022-07-29T12:26:23.148479Z",
     "iopub.status.idle": "2022-07-29T12:26:23.157422Z",
     "shell.execute_reply": "2022-07-29T12:26:23.156511Z"
    },
    "papermill": {
     "duration": 0.032647,
     "end_time": "2022-07-29T12:26:23.159770",
     "exception": false,
     "start_time": "2022-07-29T12:26:23.127123",
     "status": "completed"
    },
    "tags": []
   },
   "outputs": [
    {
     "data": {
      "text/plain": [
       "array([[3.30295831e-01, 5.21983624e-01],\n",
       "       [4.43951607e-01, 6.56570673e-01],\n",
       "       [6.27522767e-02, 9.65573788e-01],\n",
       "       [9.90425289e-01, 3.74138355e-04],\n",
       "       [3.77757281e-01, 4.01699394e-01],\n",
       "       [8.96568000e-01, 2.04054117e-02],\n",
       "       [2.25238800e-01, 7.72301733e-01],\n",
       "       [6.53392375e-02, 9.48375344e-01],\n",
       "       [1.65187985e-01, 9.21365678e-01],\n",
       "       [1.83591604e-01, 8.59119773e-01],\n",
       "       [5.10327578e-01, 5.90510488e-01],\n",
       "       [2.51715302e-01, 8.21529031e-01],\n",
       "       [2.45334685e-01, 8.20710480e-01],\n",
       "       [3.59731227e-01, 8.15395594e-01],\n",
       "       [9.71079767e-02, 9.44581628e-01],\n",
       "       [8.01569700e-01, 2.31906235e-01],\n",
       "       [9.87282097e-02, 9.23643827e-01],\n",
       "       [9.46481228e-02, 8.75514150e-01],\n",
       "       [1.65450305e-01, 8.77884746e-01],\n",
       "       [8.25357080e-01, 1.95848942e-02],\n",
       "       [2.03027427e-02, 3.75800818e-01],\n",
       "       [4.71290648e-02, 8.73579085e-01],\n",
       "       [2.03202188e-01, 9.27299500e-01],\n",
       "       [5.04796803e-02, 9.24554527e-01],\n",
       "       [1.13399684e-01, 6.79117680e-01],\n",
       "       [7.98310995e-01, 5.99536598e-02],\n",
       "       [1.94994211e-01, 7.53151298e-01],\n",
       "       [2.49491751e-01, 4.15569305e-01],\n",
       "       [8.62816334e-01, 1.14432007e-01],\n",
       "       [8.47229004e-01, 1.05860710e-01],\n",
       "       [2.54547089e-01, 6.87020779e-01],\n",
       "       [1.85465574e-01, 9.33980405e-01],\n",
       "       [5.78035414e-02, 8.02473187e-01],\n",
       "       [9.51258898e-01, 1.42187476e-02],\n",
       "       [8.18088770e-01, 3.08799446e-02],\n",
       "       [1.46157295e-01, 6.56946778e-01],\n",
       "       [1.17294103e-01, 9.70780969e-01],\n",
       "       [2.95758307e-01, 8.83526087e-01],\n",
       "       [4.68679368e-02, 9.49859023e-01],\n",
       "       [1.61250800e-01, 9.34503675e-01],\n",
       "       [9.61414814e-01, 1.03607774e-03],\n",
       "       [6.58986330e-01, 3.04353654e-01],\n",
       "       [2.83799320e-01, 9.86490607e-01],\n",
       "       [3.46080661e-02, 8.17412257e-01],\n",
       "       [5.07600307e-01, 7.62599707e-02],\n",
       "       [8.16735327e-02, 9.23020363e-01],\n",
       "       [1.48394406e-02, 9.22772288e-01],\n",
       "       [1.38432562e-01, 9.85995352e-01],\n",
       "       [9.58547831e-01, 3.54632139e-02],\n",
       "       [7.65759587e-01, 1.02330148e-01],\n",
       "       [1.55866206e-01, 8.67609024e-01],\n",
       "       [7.04627395e-01, 2.26663262e-01],\n",
       "       [5.05953074e-01, 6.25404596e-01],\n",
       "       [9.10010636e-02, 9.10589993e-01],\n",
       "       [4.52367067e-02, 9.54237640e-01],\n",
       "       [5.49283981e-01, 3.81270230e-01],\n",
       "       [1.40438318e-01, 7.62239099e-01]], dtype=float32)"
      ]
     },
     "execution_count": 33,
     "metadata": {},
     "output_type": "execute_result"
    }
   ],
   "source": [
    "Y_pred"
   ]
  },
  {
   "cell_type": "code",
   "execution_count": 34,
   "id": "305b6fd8",
   "metadata": {
    "execution": {
     "iopub.execute_input": "2022-07-29T12:26:23.202025Z",
     "iopub.status.busy": "2022-07-29T12:26:23.201146Z",
     "iopub.status.idle": "2022-07-29T12:26:23.206631Z",
     "shell.execute_reply": "2022-07-29T12:26:23.205196Z"
    },
    "papermill": {
     "duration": 0.029201,
     "end_time": "2022-07-29T12:26:23.209007",
     "exception": false,
     "start_time": "2022-07-29T12:26:23.179806",
     "status": "completed"
    },
    "tags": []
   },
   "outputs": [],
   "source": [
    "#model.predict() gives the prediction probabilty for each class for that data point"
   ]
  },
  {
   "cell_type": "markdown",
   "id": "fa651599",
   "metadata": {
    "papermill": {
     "duration": 0.021099,
     "end_time": "2022-07-29T12:26:23.250651",
     "exception": false,
     "start_time": "2022-07-29T12:26:23.229552",
     "status": "completed"
    },
    "tags": []
   },
   "source": [
    "COnverting the prediction probability to class label\n"
   ]
  },
  {
   "cell_type": "code",
   "execution_count": 35,
   "id": "59dd5ebc",
   "metadata": {
    "execution": {
     "iopub.execute_input": "2022-07-29T12:26:23.293534Z",
     "iopub.status.busy": "2022-07-29T12:26:23.293093Z",
     "iopub.status.idle": "2022-07-29T12:26:23.298960Z",
     "shell.execute_reply": "2022-07-29T12:26:23.297699Z"
    },
    "papermill": {
     "duration": 0.030136,
     "end_time": "2022-07-29T12:26:23.301356",
     "exception": false,
     "start_time": "2022-07-29T12:26:23.271220",
     "status": "completed"
    },
    "tags": []
   },
   "outputs": [],
   "source": [
    "Y_pred_labels = [np.argmax(i) for i in Y_pred]"
   ]
  },
  {
   "cell_type": "code",
   "execution_count": 36,
   "id": "bc3f2bb3",
   "metadata": {
    "execution": {
     "iopub.execute_input": "2022-07-29T12:26:23.344923Z",
     "iopub.status.busy": "2022-07-29T12:26:23.344533Z",
     "iopub.status.idle": "2022-07-29T12:26:23.352608Z",
     "shell.execute_reply": "2022-07-29T12:26:23.351394Z"
    },
    "papermill": {
     "duration": 0.032722,
     "end_time": "2022-07-29T12:26:23.355125",
     "exception": false,
     "start_time": "2022-07-29T12:26:23.322403",
     "status": "completed"
    },
    "tags": []
   },
   "outputs": [
    {
     "data": {
      "text/plain": [
       "[1,\n",
       " 1,\n",
       " 1,\n",
       " 0,\n",
       " 1,\n",
       " 0,\n",
       " 1,\n",
       " 1,\n",
       " 1,\n",
       " 1,\n",
       " 1,\n",
       " 1,\n",
       " 1,\n",
       " 1,\n",
       " 1,\n",
       " 0,\n",
       " 1,\n",
       " 1,\n",
       " 1,\n",
       " 0,\n",
       " 1,\n",
       " 1,\n",
       " 1,\n",
       " 1,\n",
       " 1,\n",
       " 0,\n",
       " 1,\n",
       " 1,\n",
       " 0,\n",
       " 0,\n",
       " 1,\n",
       " 1,\n",
       " 1,\n",
       " 0,\n",
       " 0,\n",
       " 1,\n",
       " 1,\n",
       " 1,\n",
       " 1,\n",
       " 1,\n",
       " 0,\n",
       " 0,\n",
       " 1,\n",
       " 1,\n",
       " 0,\n",
       " 1,\n",
       " 1,\n",
       " 1,\n",
       " 0,\n",
       " 0,\n",
       " 1,\n",
       " 0,\n",
       " 1,\n",
       " 1,\n",
       " 1,\n",
       " 0,\n",
       " 1]"
      ]
     },
     "execution_count": 36,
     "metadata": {},
     "output_type": "execute_result"
    }
   ],
   "source": [
    "Y_pred_labels"
   ]
  },
  {
   "cell_type": "code",
   "execution_count": 37,
   "id": "a385c771",
   "metadata": {
    "execution": {
     "iopub.execute_input": "2022-07-29T12:26:23.398867Z",
     "iopub.status.busy": "2022-07-29T12:26:23.398428Z",
     "iopub.status.idle": "2022-07-29T12:26:23.404079Z",
     "shell.execute_reply": "2022-07-29T12:26:23.402787Z"
    },
    "papermill": {
     "duration": 0.031224,
     "end_time": "2022-07-29T12:26:23.407285",
     "exception": false,
     "start_time": "2022-07-29T12:26:23.376061",
     "status": "completed"
    },
    "tags": []
   },
   "outputs": [
    {
     "name": "stdout",
     "output_type": "stream",
     "text": [
      "(57, 2)\n",
      "1\n"
     ]
    }
   ],
   "source": [
    "print(Y_pred.shape)\n",
    "print(Y_pred_labels[1])"
   ]
  },
  {
   "cell_type": "code",
   "execution_count": 38,
   "id": "bbc62295",
   "metadata": {
    "execution": {
     "iopub.execute_input": "2022-07-29T12:26:23.450426Z",
     "iopub.status.busy": "2022-07-29T12:26:23.450042Z",
     "iopub.status.idle": "2022-07-29T12:26:23.456181Z",
     "shell.execute_reply": "2022-07-29T12:26:23.455261Z"
    },
    "papermill": {
     "duration": 0.030351,
     "end_time": "2022-07-29T12:26:23.458399",
     "exception": false,
     "start_time": "2022-07-29T12:26:23.428048",
     "status": "completed"
    },
    "tags": []
   },
   "outputs": [],
   "source": [
    "input_data=(11.76,21.6,74.72,427.9,0.08637,0.04966,0.01657,0.01115,0.1495,0.05888,0.4062,1.21,2.635,28.47,0.005857,0.009758,0.01168,0.007445,0.02406,0.001769,12.98,25.72,82.98,516.5,0.1085,0.08615,0.05523,0.03715,0.2433,0.06563)\n",
    "# change the input data to numpy array\n",
    "input_numpy = np.asarray(input_data)"
   ]
  },
  {
   "cell_type": "code",
   "execution_count": 39,
   "id": "4f8d9171",
   "metadata": {
    "execution": {
     "iopub.execute_input": "2022-07-29T12:26:23.501725Z",
     "iopub.status.busy": "2022-07-29T12:26:23.500926Z",
     "iopub.status.idle": "2022-07-29T12:26:23.569642Z",
     "shell.execute_reply": "2022-07-29T12:26:23.567793Z"
    },
    "papermill": {
     "duration": 0.09375,
     "end_time": "2022-07-29T12:26:23.572493",
     "exception": false,
     "start_time": "2022-07-29T12:26:23.478743",
     "status": "completed"
    },
    "tags": []
   },
   "outputs": [
    {
     "name": "stdout",
     "output_type": "stream",
     "text": [
      "[[0.09070581 0.9115894 ]]\n",
      "[1]\n",
      "Benign\n"
     ]
    },
    {
     "name": "stderr",
     "output_type": "stream",
     "text": [
      "/opt/conda/lib/python3.7/site-packages/sklearn/base.py:451: UserWarning: X does not have valid feature names, but StandardScaler was fitted with feature names\n",
      "  \"X does not have valid feature names, but\"\n"
     ]
    }
   ],
   "source": [
    "#reshape the numpy array as we are predicting for one data point\n",
    "input_data_reshaped = input_numpy.reshape(1,-1)\n",
    "\n",
    "# standardize the input data\n",
    "input_data_scaled = scaler.transform(input_data_reshaped)\n",
    "prediction = model.predict(input_data_scaled)\n",
    "print(prediction)\n",
    "\n",
    "prediction_label = [np.argmax(prediction)]\n",
    "print(prediction_label)\n",
    "\n",
    "if(prediction_label[0]==0):\n",
    "    print('Malignant')\n",
    "else:\n",
    "    print('Benign')"
   ]
  },
  {
   "cell_type": "code",
   "execution_count": null,
   "id": "f1f075ee",
   "metadata": {
    "papermill": {
     "duration": 0.020141,
     "end_time": "2022-07-29T12:26:23.613086",
     "exception": false,
     "start_time": "2022-07-29T12:26:23.592945",
     "status": "completed"
    },
    "tags": []
   },
   "outputs": [],
   "source": []
  }
 ],
 "metadata": {
  "kernelspec": {
   "display_name": "Python 3",
   "language": "python",
   "name": "python3"
  },
  "language_info": {
   "codemirror_mode": {
    "name": "ipython",
    "version": 3
   },
   "file_extension": ".py",
   "mimetype": "text/x-python",
   "name": "python",
   "nbconvert_exporter": "python",
   "pygments_lexer": "ipython3",
   "version": "3.7.12"
  },
  "papermill": {
   "default_parameters": {},
   "duration": 27.652869,
   "end_time": "2022-07-29T12:26:26.733642",
   "environment_variables": {},
   "exception": null,
   "input_path": "__notebook__.ipynb",
   "output_path": "__notebook__.ipynb",
   "parameters": {},
   "start_time": "2022-07-29T12:25:59.080773",
   "version": "2.3.4"
  }
 },
 "nbformat": 4,
 "nbformat_minor": 5
}
